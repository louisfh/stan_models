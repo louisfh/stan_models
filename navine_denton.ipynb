{
 "cells": [
  {
   "cell_type": "code",
   "execution_count": 13,
   "metadata": {},
   "outputs": [
    {
     "ename": "TypeError",
     "evalue": "slice indices must be integers or None or have an __index__ method",
     "output_type": "error",
     "traceback": [
      "\u001b[0;31m---------------------------------------------------------------------------\u001b[0m",
      "\u001b[0;31mTypeError\u001b[0m                                 Traceback (most recent call last)",
      "Cell \u001b[0;32mIn[13], line 36\u001b[0m\n\u001b[1;32m     34\u001b[0m bin_id[n_clips\u001b[38;5;241m/\u001b[39m\u001b[38;5;241m/\u001b[39m\u001b[38;5;241m4\u001b[39m\u001b[38;5;241m*\u001b[39m\u001b[38;5;241m3\u001b[39m:] \u001b[38;5;241m=\u001b[39m \u001b[38;5;241m2\u001b[39m\n\u001b[1;32m     35\u001b[0m \u001b[38;5;66;03m# 87.5th - 100th percentile\u001b[39;00m\n\u001b[0;32m---> 36\u001b[0m \u001b[43mbin_id\u001b[49m\u001b[43m[\u001b[49m\u001b[43mn_clips\u001b[49m\u001b[38;5;241;43m/\u001b[39;49m\u001b[38;5;241;43m/\u001b[39;49m\u001b[38;5;241;43m100\u001b[39;49m\u001b[38;5;241;43m*\u001b[39;49m\u001b[38;5;241;43m87.5\u001b[39;49m\u001b[43m:\u001b[49m\u001b[43m]\u001b[49m \u001b[38;5;241m=\u001b[39m \u001b[38;5;241m3\u001b[39m\n\u001b[1;32m     37\u001b[0m df[\u001b[38;5;124m'\u001b[39m\u001b[38;5;124mbin_id\u001b[39m\u001b[38;5;124m'\u001b[39m] \u001b[38;5;241m=\u001b[39m bin_id\n\u001b[1;32m     39\u001b[0m \u001b[38;5;66;03m# pick 10 random clips from each bin\u001b[39;00m\n",
      "\u001b[0;31mTypeError\u001b[0m: slice indices must be integers or None or have an __index__ method"
     ]
    }
   ],
   "source": [
    "import numpy as np\n",
    "import pandas as pd\n",
    "import matplotlib.pyplot as plt\n",
    "\n",
    "# generate some data\n",
    "mu_0 = -6\n",
    "sigma_0 = 3\n",
    "mu_1 = 3\n",
    "sigma_1 = 2\n",
    "\n",
    "n_clips = 2000\n",
    "n_pos = 1000\n",
    "\n",
    "# generate data\n",
    "scores = np.zeros(n_clips)\n",
    "labels = np.zeros(n_clips)\n",
    "scores[:n_pos] = np.random.normal(mu_1, sigma_1, n_pos)\n",
    "labels[:n_pos] = 1\n",
    "scores[n_pos:] = np.random.normal(mu_0, sigma_0, n_clips - n_pos)\n",
    "labels[n_pos:] = 0\n",
    "\n",
    "df = pd.DataFrame({'score': scores, 'label': labels})\n",
    "\n",
    "# divide the data into 5 bins. They are the first 50% of scores, then 25%, 12.5% and 12.5%\n",
    "df = df.sort_values('score')\n",
    "\n",
    "bin_id = np.zeros(n_clips)\n",
    "\n",
    "# find the 50th percentile\n",
    "bin_id[:n_clips//2] = 0\n",
    "# find the 75th percentile\n",
    "bin_id[n_clips//2:n_clips//4*3] = 1\n",
    "# 75th-87.5th percentile\n",
    "bin_id[n_clips//4*3:] = 2\n",
    "# 87.5th - 100th percentile\n",
    "bin_id[n_clips//100*87.5:] = 3\n",
    "df['bin_id'] = bin_id\n",
    "\n",
    "# pick 10 random clips from each bin\n",
    "df = df.sample(frac=1)\n",
    "labeled = df.groupby('bin_id').head(10)\n",
    "\n",
    "# count how many positive for each bin\n",
    "positive = labeled.groupby('bin_id').label.sum().astype(int)\n",
    "total = labeled.groupby('bin_id').label.count().astype(int)\n",
    "\n",
    "data = pd.DataFrame({'N_bins' : len(total), 'num_clips' 'positive': positive, 'total': total})"
   ]
  },
  {
   "cell_type": "code",
   "execution_count": 7,
   "metadata": {},
   "outputs": [
    {
     "data": {
      "text/plain": [
       "bin_id\n",
       "0.0     0.0\n",
       "1.0     9.0\n",
       "3.0    10.0\n",
       "Name: label, dtype: float64"
      ]
     },
     "execution_count": 7,
     "metadata": {},
     "output_type": "execute_result"
    }
   ],
   "source": [
    "positive"
   ]
  },
  {
   "cell_type": "code",
   "execution_count": 8,
   "metadata": {},
   "outputs": [
    {
     "data": {
      "text/plain": [
       "bin_id\n",
       "0.0    10\n",
       "1.0    10\n",
       "3.0    10\n",
       "Name: label, dtype: int64"
      ]
     },
     "execution_count": 8,
     "metadata": {},
     "output_type": "execute_result"
    }
   ],
   "source": [
    "total"
   ]
  },
  {
   "cell_type": "code",
   "execution_count": 9,
   "metadata": {},
   "outputs": [
    {
     "data": {
      "text/plain": [
       "3"
      ]
     },
     "execution_count": 9,
     "metadata": {},
     "output_type": "execute_result"
    }
   ],
   "source": [
    "len(total)"
   ]
  },
  {
   "cell_type": "code",
   "execution_count": null,
   "metadata": {},
   "outputs": [],
   "source": []
  }
 ],
 "metadata": {
  "kernelspec": {
   "display_name": "cmdstanpy",
   "language": "python",
   "name": "python3"
  },
  "language_info": {
   "codemirror_mode": {
    "name": "ipython",
    "version": 3
   },
   "file_extension": ".py",
   "mimetype": "text/x-python",
   "name": "python",
   "nbconvert_exporter": "python",
   "pygments_lexer": "ipython3",
   "version": "3.13.1"
  }
 },
 "nbformat": 4,
 "nbformat_minor": 2
}
