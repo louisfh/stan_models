{
 "cells": [
  {
   "cell_type": "code",
   "execution_count": 181,
   "metadata": {},
   "outputs": [],
   "source": [
    "import numpy as np\n",
    "import pandas as pd\n",
    "import matplotlib.pyplot as plt\n",
    "\n",
    "# generate some data\n",
    "mu_0 = -5\n",
    "sigma_0 = 3\n",
    "mu_1 = 3\n",
    "sigma_1 = 2\n",
    "\n",
    "n_clips = 5000\n",
    "n_pos = 400\n",
    "\n",
    "# generate data\n",
    "scores = np.zeros(n_clips)\n",
    "labels = np.zeros(n_clips)\n",
    "scores[:n_pos] = np.random.normal(mu_1, sigma_1, n_pos)\n",
    "labels[:n_pos] = 1\n",
    "scores[n_pos:] = np.random.normal(mu_0, sigma_0, n_clips - n_pos)\n",
    "labels[n_pos:] = 0\n",
    "\n",
    "# make a labeling weighting. Try 1/rank\n",
    "df = pd.DataFrame({'score': scores, 'label': labels})\n",
    "df = df.sort_values(\"score\", ascending=False)\n",
    "df[\"weighting\"] = 1/(1 + np.arange(len(df)))\n",
    "\n",
    "# shuffle them just to remove any ordering\n",
    "df = df.sample(frac=1)\n",
    "\n",
    "# ensure labels are integers\n",
    "df[\"label\"] = df[\"label\"].astype(int)\n",
    "\n",
    "n_labeled = 50\n",
    "\n",
    "# sample according to the weighting\n",
    "labeled = df.sample(n_labeled, weights=\"weighting\")\n",
    "unlabeled = df.drop(labeled.index)\n",
    "\n",
    "# normalize the labeled weights\n",
    "labeled[\"weighting\"] = labeled[\"weighting\"] / labeled[\"weighting\"].sum()\n",
    "\n",
    "# make the data dictionary\n",
    "data = {'N_labeled': len(labeled), \n",
    "        'N_unlabeled': len(unlabeled), \n",
    "        'scores_labeled': labeled['score'].values, \n",
    "        'scores_unlabeled': unlabeled['score'].values,\n",
    "        'sampling_weight': labeled[\"weighting\"].values,\n",
    "        'labels': labeled[\"label\"].values}\n",
    "\n",
    "# make the data\n"
   ]
  },
  {
   "cell_type": "code",
   "execution_count": 182,
   "metadata": {},
   "outputs": [
    {
     "name": "stdout",
     "output_type": "stream",
     "text": [
      "Number of positives in labeled data: 31\n",
      "proportion of positives in labeled data: 0.62\n",
      "proportion of positives in all data: 0.08\n"
     ]
    },
    {
     "data": {
      "image/png": "[encoded data removed]",
      "text/plain": [
       "<Figure size 900x300 with 3 Axes>"
      ]
     },
     "metadata": {},
     "output_type": "display_data"
    }
   ],
   "source": [
    "# plot the histogram of scores\n",
    "import matplotlib.pyplot as plt\n",
    "fig, ax = plt.subplots(1, 3, figsize=(9, 3), sharex=True)\n",
    "pos = df[df['label'] == 1]\n",
    "neg = df[df['label'] == 0]\n",
    "ax[0].hist(pos['score'], bins=100, alpha=0.5, label='pos', color='red')\n",
    "ax[0].hist(neg['score'], bins=100, alpha=0.5, label='neg', color='blue')\n",
    "ax[1].hist(df['score'], bins=100, alpha=0.5, label='all', color='green')\n",
    "ax[2].hist(labeled[labeled[\"label\"] ==1]['score'], bins=10, alpha=0.5, label='labeled', color='red')\n",
    "ax[2].hist(labeled[labeled[\"label\"] ==0]['score'], bins=50, alpha=0.5, label='unlabeled', color='blue')\n",
    "print(f\"Number of positives in labeled data: {np.sum(labeled['label'])}\")\n",
    "print(f\"proportion of positives in labeled data: {np.mean(labeled['label'])}\")\n",
    "print(f\"proportion of positives in all data: {np.mean(df['label'])}\")"
   ]
  },
  {
   "cell_type": "code",
   "execution_count": 130,
   "metadata": {},
   "outputs": [],
   "source": [
    "#import cmdstanpy and use the stan model\n",
    "import cmdstanpy\n",
    "file = \"weighted_sample_gmm.stan\"\n",
    "model = cmdstanpy.CmdStanModel(stan_file=file)"
   ]
  },
  {
   "cell_type": "code",
   "execution_count": null,
   "metadata": {},
   "outputs": [
    {
     "name": "stderr",
     "output_type": "stream",
     "text": [
      "13:07:39 - cmdstanpy - INFO - CmdStan start processing\n"
     ]
    },
    {
     "data": {
      "application/vnd.jupyter.widget-view+json": {
       "model_id": "f4ce14afc97f49e6891a53efbf00e5f9",
       "version_major": 2,
       "version_minor": 0
      },
      "text/plain": [
       "chain 1 |          | 00:00 Status"
      ]
     },
     "metadata": {},
     "output_type": "display_data"
    },
    {
     "data": {
      "application/vnd.jupyter.widget-view+json": {
       "model_id": "2b83b9d4cb4f4e91bacc978ce9e9a0a6",
       "version_major": 2,
       "version_minor": 0
      },
      "text/plain": [
       "chain 2 |          | 00:00 Status"
      ]
     },
     "metadata": {},
     "output_type": "display_data"
    },
    {
     "data": {
      "application/vnd.jupyter.widget-view+json": {
       "model_id": "f46fc25625f1418cb604d247c20f0c76",
       "version_major": 2,
       "version_minor": 0
      },
      "text/plain": [
       "chain 3 |          | 00:00 Status"
      ]
     },
     "metadata": {},
     "output_type": "display_data"
    },
    {
     "data": {
      "application/vnd.jupyter.widget-view+json": {
       "model_id": "3d42331aca92411392c4d499f6b89138",
       "version_major": 2,
       "version_minor": 0
      },
      "text/plain": [
       "chain 4 |          | 00:00 Status"
      ]
     },
     "metadata": {},
     "output_type": "display_data"
    },
    {
     "name": "stdout",
     "output_type": "stream",
     "text": [
      "                                                                                                                                                                                                                                                                                                                                "
     ]
    },
    {
     "name": "stderr",
     "output_type": "stream",
     "text": [
      "13:07:51 - cmdstanpy - INFO - CmdStan done processing.\n",
      "13:07:51 - cmdstanpy - WARNING - Non-fatal error during sampling:\n",
      "Exception: normal_lpdf: Scale parameter is 0, but must be positive! (in 'weighted_sample_gmm.stan', line 29, column 12 to line 31, column 86)\n",
      "Exception: normal_lpdf: Scale parameter is 0, but must be positive! (in 'weighted_sample_gmm.stan', line 29, column 12 to line 31, column 86)\n",
      "Exception: normal_lpdf: Scale parameter is 0, but must be positive! (in 'weighted_sample_gmm.stan', line 29, column 12 to line 31, column 86)\n",
      "Consider re-running with show_console=True if the above output is unclear!\n",
      "13:07:51 - cmdstanpy - WARNING - Some chains may have failed to converge.\n",
      "\tChain 1 had 3 divergent transitions (1.2%)\n",
      "\tUse the \"diagnose()\" method on the CmdStanMCMC object to see further information.\n"
     ]
    },
    {
     "name": "stdout",
     "output_type": "stream",
     "text": [
      "\n"
     ]
    }
   ],
   "source": [
    "# fit the model\n",
    "fit = model.sample(data=data, chains=, iter_warmup=250, iter_sampling=250)"
   ]
  },
  {
   "cell_type": "code",
   "execution_count": 64,
   "metadata": {},
   "outputs": [
    {
     "data": {
      "text/html": [
       "<div>\n",
       "<style scoped>\n",
       "    .dataframe tbody tr th:only-of-type {\n",
       "        vertical-align: middle;\n",
       "    }\n",
       "\n",
       "    .dataframe tbody tr th {\n",
       "        vertical-align: top;\n",
       "    }\n",
       "\n",
       "    .dataframe thead th {\n",
       "        text-align: right;\n",
       "    }\n",
       "</style>\n",
       "<table border=\"1\" class=\"dataframe\">\n",
       "  <thead>\n",
       "    <tr style=\"text-align: right;\">\n",
       "      <th></th>\n",
       "      <th>Mean</th>\n",
       "      <th>MCSE</th>\n",
       "      <th>StdDev</th>\n",
       "      <th>5%</th>\n",
       "      <th>50%</th>\n",
       "      <th>95%</th>\n",
       "      <th>N_Eff</th>\n",
       "      <th>N_Eff/s</th>\n",
       "      <th>R_hat</th>\n",
       "    </tr>\n",
       "  </thead>\n",
       "  <tbody>\n",
       "    <tr>\n",
       "      <th>lp__</th>\n",
       "      <td>-13950.90000</td>\n",
       "      <td>0.435938</td>\n",
       "      <td>2.140150</td>\n",
       "      <td>-13954.900000</td>\n",
       "      <td>-13950.40000</td>\n",
       "      <td>-13948.20000</td>\n",
       "      <td>24.10130</td>\n",
       "      <td>1.63376</td>\n",
       "      <td>1.09185</td>\n",
       "    </tr>\n",
       "    <tr>\n",
       "      <th>mu[1]</th>\n",
       "      <td>-4.68349</td>\n",
       "      <td>0.001870</td>\n",
       "      <td>0.041944</td>\n",
       "      <td>-4.754090</td>\n",
       "      <td>-4.68286</td>\n",
       "      <td>-4.61524</td>\n",
       "      <td>502.83200</td>\n",
       "      <td>34.08570</td>\n",
       "      <td>1.00963</td>\n",
       "    </tr>\n",
       "    <tr>\n",
       "      <th>mu[2]</th>\n",
       "      <td>3.06550</td>\n",
       "      <td>0.164751</td>\n",
       "      <td>1.593370</td>\n",
       "      <td>-0.640515</td>\n",
       "      <td>3.61797</td>\n",
       "      <td>4.51547</td>\n",
       "      <td>93.53520</td>\n",
       "      <td>6.34051</td>\n",
       "      <td>1.06356</td>\n",
       "    </tr>\n",
       "    <tr>\n",
       "      <th>sigma[1]</th>\n",
       "      <td>3.01097</td>\n",
       "      <td>0.001143</td>\n",
       "      <td>0.027229</td>\n",
       "      <td>2.965600</td>\n",
       "      <td>3.01105</td>\n",
       "      <td>3.05605</td>\n",
       "      <td>567.10200</td>\n",
       "      <td>38.44240</td>\n",
       "      <td>1.00089</td>\n",
       "    </tr>\n",
       "    <tr>\n",
       "      <th>sigma[2]</th>\n",
       "      <td>1.73639</td>\n",
       "      <td>0.223312</td>\n",
       "      <td>1.117500</td>\n",
       "      <td>0.661475</td>\n",
       "      <td>1.31963</td>\n",
       "      <td>4.21628</td>\n",
       "      <td>25.04210</td>\n",
       "      <td>1.69754</td>\n",
       "      <td>1.08486</td>\n",
       "    </tr>\n",
       "    <tr>\n",
       "      <th>theta</th>\n",
       "      <td>0.00305</td>\n",
       "      <td>0.000110</td>\n",
       "      <td>0.001430</td>\n",
       "      <td>0.001360</td>\n",
       "      <td>0.00274</td>\n",
       "      <td>0.00569</td>\n",
       "      <td>169.47371</td>\n",
       "      <td>11.48819</td>\n",
       "      <td>1.01573</td>\n",
       "    </tr>\n",
       "    <tr>\n",
       "      <th>n_pos_pred</th>\n",
       "      <td>14.18500</td>\n",
       "      <td>0.537490</td>\n",
       "      <td>6.913220</td>\n",
       "      <td>7.000000</td>\n",
       "      <td>13.00000</td>\n",
       "      <td>28.00000</td>\n",
       "      <td>165.43010</td>\n",
       "      <td>11.21408</td>\n",
       "      <td>1.01942</td>\n",
       "    </tr>\n",
       "  </tbody>\n",
       "</table>\n",
       "</div>"
      ],
      "text/plain": [
       "                   Mean      MCSE    StdDev            5%          50%  \\\n",
       "lp__       -13950.90000  0.435938  2.140150 -13954.900000 -13950.40000   \n",
       "mu[1]          -4.68349  0.001870  0.041944     -4.754090     -4.68286   \n",
       "mu[2]           3.06550  0.164751  1.593370     -0.640515      3.61797   \n",
       "sigma[1]        3.01097  0.001143  0.027229      2.965600      3.01105   \n",
       "sigma[2]        1.73639  0.223312  1.117500      0.661475      1.31963   \n",
       "theta           0.00305  0.000110  0.001430      0.001360      0.00274   \n",
       "n_pos_pred     14.18500  0.537490  6.913220      7.000000     13.00000   \n",
       "\n",
       "                    95%      N_Eff   N_Eff/s    R_hat  \n",
       "lp__       -13948.20000   24.10130   1.63376  1.09185  \n",
       "mu[1]          -4.61524  502.83200  34.08570  1.00963  \n",
       "mu[2]           4.51547   93.53520   6.34051  1.06356  \n",
       "sigma[1]        3.05605  567.10200  38.44240  1.00089  \n",
       "sigma[2]        4.21628   25.04210   1.69754  1.08486  \n",
       "theta           0.00569  169.47371  11.48819  1.01573  \n",
       "n_pos_pred     28.00000  165.43010  11.21408  1.01942  "
      ]
     },
     "execution_count": 64,
     "metadata": {},
     "output_type": "execute_result"
    }
   ],
   "source": [
    "samples = fit.draws_pd()\n",
    "# summarize the results\n",
    "summary = fit.summary()\n",
    "summary"
   ]
  },
  {
   "cell_type": "code",
   "execution_count": 141,
   "metadata": {},
   "outputs": [
    {
     "name": "stderr",
     "output_type": "stream",
     "text": [
      "15:16:39 - cmdstanpy - INFO - CmdStan start processing\n"
     ]
    },
    {
     "data": {
      "application/vnd.jupyter.widget-view+json": {
       "model_id": "e340f227800e49f898c34b31dd9dd00e",
       "version_major": 2,
       "version_minor": 0
      },
      "text/plain": [
       "chain 1 |          | 00:00 Status"
      ]
     },
     "metadata": {},
     "output_type": "display_data"
    },
    {
     "data": {
      "application/vnd.jupyter.widget-view+json": {
       "model_id": "abe731b8a4ce45639a3b408f1efb4dc4",
       "version_major": 2,
       "version_minor": 0
      },
      "text/plain": [
       "chain 2 |          | 00:00 Status"
      ]
     },
     "metadata": {},
     "output_type": "display_data"
    },
    {
     "data": {
      "application/vnd.jupyter.widget-view+json": {
       "model_id": "5ccdcfeb9f4047dda5fb84c4aab7cf3c",
       "version_major": 2,
       "version_minor": 0
      },
      "text/plain": [
       "chain 3 |          | 00:00 Status"
      ]
     },
     "metadata": {},
     "output_type": "display_data"
    },
    {
     "data": {
      "application/vnd.jupyter.widget-view+json": {
       "model_id": "2465fa454f5f43fb9f961e440e256d4a",
       "version_major": 2,
       "version_minor": 0
      },
      "text/plain": [
       "chain 4 |          | 00:00 Status"
      ]
     },
     "metadata": {},
     "output_type": "display_data"
    },
    {
     "name": "stdout",
     "output_type": "stream",
     "text": [
      "                                                                                                                                                                                                                                                                                                                                "
     ]
    },
    {
     "name": "stderr",
     "output_type": "stream",
     "text": [
      "15:16:51 - cmdstanpy - INFO - CmdStan done processing.\n",
      "15:16:51 - cmdstanpy - WARNING - Non-fatal error during sampling:\n",
      "Exception: normal_lpdf: Location parameter is inf, but must be finite! (in 'gmm.stan', line 27, column 12 to line 29, column 86)\n",
      "Exception: normal_lpdf: Scale parameter is 0, but must be positive! (in 'gmm.stan', line 27, column 12 to line 29, column 86)\n",
      "Consider re-running with show_console=True if the above output is unclear!\n"
     ]
    },
    {
     "name": "stdout",
     "output_type": "stream",
     "text": [
      "\n"
     ]
    }
   ],
   "source": [
    "# now compare it to regular gmm model\n",
    "file = \"gmm.stan\"\n",
    "model = cmdstanpy.CmdStanModel(stan_file=file)\n",
    "fit = model.sample(data=data, chains=4, iter_warmup=250, iter_sampling=250)\n",
    "samples = fit.draws_pd()\n",
    "# summarize the results\n",
    "summary = fit.summary()"
   ]
  },
  {
   "cell_type": "code",
   "execution_count": 216,
   "metadata": {},
   "outputs": [
    {
     "name": "stderr",
     "output_type": "stream",
     "text": [
      "16:42:36 - cmdstanpy - INFO - compiling stan file /Users/LOF19/Dev/stan_models/GP.stan to exe file /Users/LOF19/Dev/stan_models/GP\n",
      "16:42:53 - cmdstanpy - INFO - compiled model executable: /Users/LOF19/Dev/stan_models/GP\n"
     ]
    }
   ],
   "source": [
    "# try with the GP model\n",
    "#import cmdstanpy and use the stan model\n",
    "file = \"GP.stan\"\n",
    "model = cmdstanpy.CmdStanModel(stan_file=file)"
   ]
  },
  {
   "cell_type": "code",
   "execution_count": 217,
   "metadata": {},
   "outputs": [
    {
     "name": "stderr",
     "output_type": "stream",
     "text": [
      "16:42:53 - cmdstanpy - INFO - Chain [1] start processing\n"
     ]
    },
    {
     "name": "stdout",
     "output_type": "stream",
     "text": [
      "Chain [1] method = sample (Default)\n",
      "Chain [1] sample\n",
      "Chain [1] num_samples = 500\n",
      "Chain [1] num_warmup = 500\n",
      "Chain [1] save_warmup = false (Default)\n",
      "Chain [1] thin = 1 (Default)\n",
      "Chain [1] adapt\n",
      "Chain [1] engaged = true (Default)\n",
      "Chain [1] gamma = 0.05 (Default)\n",
      "Chain [1] delta = 0.8 (Default)\n",
      "Chain [1] kappa = 0.75 (Default)\n",
      "Chain [1] t0 = 10 (Default)\n",
      "Chain [1] init_buffer = 75 (Default)\n",
      "Chain [1] term_buffer = 50 (Default)\n",
      "Chain [1] window = 25 (Default)\n",
      "Chain [1] save_metric = false (Default)\n",
      "Chain [1] algorithm = hmc (Default)\n",
      "Chain [1] hmc\n",
      "Chain [1] engine = nuts (Default)\n",
      "Chain [1] nuts\n",
      "Chain [1] max_depth = 10 (Default)\n",
      "Chain [1] metric = diag_e (Default)\n",
      "Chain [1] metric_file =  (Default)\n",
      "Chain [1] stepsize = 1 (Default)\n",
      "Chain [1] stepsize_jitter = 0 (Default)\n",
      "Chain [1] num_chains = 1 (Default)\n",
      "Chain [1] id = 1 (Default)\n",
      "Chain [1] data\n",
      "Chain [1] file = /var/folders/_s/zm3gz4x52glfbflc25_3rp3w0000gq/T/tmpfck_tgys/mpwf1xy0.json\n",
      "Chain [1] init = 2 (Default)\n",
      "Chain [1] random\n",
      "Chain [1] seed = 77717\n",
      "Chain [1] output\n",
      "Chain [1] file = /var/folders/_s/zm3gz4x52glfbflc25_3rp3w0000gq/T/tmpfck_tgys/GPvmy67t1_/GP-20241213164253.csv\n",
      "Chain [1] diagnostic_file =  (Default)\n",
      "Chain [1] refresh = 100 (Default)\n",
      "Chain [1] sig_figs = -1 (Default)\n",
      "Chain [1] profile_file = profile.csv (Default)\n",
      "Chain [1] save_cmdstan_config = false (Default)\n",
      "Chain [1] num_threads = 1 (Default)\n",
      "Chain [1] \n",
      "Chain [1] At point 1 there are 1 clips\n",
      "Chain [1] At point 2 there are 0 clips\n",
      "Chain [1] At point 3 there are 0 clips\n",
      "Chain [1] At point 4 there are 0 clips\n",
      "Chain [1] At point 5 there are 0 clips\n",
      "Chain [1] At point 6 there are 0 clips\n",
      "Chain [1] At point 7 there are 0 clips\n",
      "Chain [1] At point 8 there are 1 clips\n",
      "Chain [1] At point 9 there are 0 clips\n",
      "Chain [1] At point 10 there are 4 clips\n",
      "Chain [1] At point 11 there are 0 clips\n",
      "Chain [1] At point 12 there are 4 clips\n",
      "Chain [1] At point 13 there are 5 clips\n",
      "Chain [1] At point 14 there are 2 clips\n",
      "Chain [1] At point 15 there are 5 clips\n",
      "Chain [1] At point 16 there are 4 clips\n",
      "Chain [1] At point 17 there are 8 clips\n",
      "Chain [1] At point 18 there are 10 clips\n",
      "Chain [1] At point 19 there are 12 clips\n",
      "Chain [1] At point 20 there are 11 clips\n",
      "Chain [1] At point 21 there are 18 clips\n",
      "Chain [1] At point 22 there are 12 clips\n",
      "Chain [1] At point 23 there are 20 clips\n",
      "Chain [1] At point 24 there are 23 clips\n",
      "Chain [1] At point 25 there are 28 clips\n",
      "Chain [1] At point 26 there are 31 clips\n",
      "Chain [1] At point 27 there are 29 clips\n",
      "Chain [1] At point 28 there are 41 clips\n",
      "Chain [1] At point 29 there are 50 clips\n",
      "Chain [1] At point 30 there are 51 clips\n",
      "Chain [1] At point 31 there are 60 clips\n",
      "Chain [1] At point 32 there are 63 clips\n",
      "Chain [1] At point 33 there are 81 clips\n",
      "Chain [1] At point 34 there are 87 clips\n",
      "Chain [1] At point 35 there are 84 clips\n",
      "Chain [1] At point 36 there are 89 clips\n",
      "Chain [1] At point 37 there are 95 clips\n",
      "Chain [1] At point 38 there are 122 clips\n",
      "Chain [1] At point 39 there are 117 clips\n",
      "Chain [1] At point 40 there are 151 clips\n",
      "Chain [1] At point 41 there are 138 clips\n",
      "Chain [1] At point 42 there are 137 clips\n",
      "Chain [1] At point 43 there are 153 clips\n",
      "Chain [1] At point 44 there are 144 clips\n",
      "Chain [1] At point 45 there are 136 clips\n",
      "Chain [1] At point 46 there are 161 clips\n",
      "Chain [1] At point 47 there are 153 clips\n",
      "Chain [1] At point 48 there are 151 clips\n",
      "Chain [1] At point 49 there are 123 clips\n",
      "Chain [1] At point 50 there are 159 clips\n",
      "Chain [1] At point 51 there are 143 clips\n",
      "Chain [1] At point 52 there are 126 clips\n",
      "Chain [1] At point 53 there are 152 clips\n",
      "Chain [1] At point 54 there are 129 clips\n",
      "Chain [1] At point 55 there are 140 clips\n",
      "Chain [1] At point 56 there are 121 clips\n",
      "Chain [1] At point 57 there are 112 clips\n",
      "Chain [1] At point 58 there are 100 clips\n",
      "Chain [1] At point 59 there are 91 clips\n",
      "Chain [1] At point 60 there are 90 clips\n",
      "Chain [1] At point 61 there are 79 clips\n",
      "Chain [1] At point 62 there are 58 clips\n",
      "Chain [1] At point 63 there are 80 clips\n",
      "Chain [1] At point 64 there are 56 clips\n",
      "Chain [1] At point 65 there are 52 clips\n",
      "Chain [1] At point 66 there are 66 clips\n",
      "Chain [1] At point 67 there are 43 clips\n",
      "Chain [1] At point 68 there are 46 clips\n",
      "Chain [1] At point 69 there are 25 clips\n",
      "Chain [1] At point 70 there are 29 clips\n",
      "Chain [1] At point 71 there are 34 clips\n",
      "Chain [1] At point 72 there are 35 clips\n",
      "Chain [1] At point 73 there are 27 clips\n",
      "Chain [1] At point 74 there are 29 clips\n",
      "Chain [1] At point 75 there are 23 clips\n",
      "Chain [1] At point 76 there are 15 clips\n",
      "Chain [1] At point 77 there are 29 clips\n",
      "Chain [1] At point 78 there are 29 clips\n",
      "Chain [1] At point 79 there are 18 clips\n",
      "Chain [1] At point 80 there are 19 clips\n",
      "Chain [1] At point 81 there are 25 clips\n",
      "Chain [1] At point 82 there are 21 clips\n",
      "Chain [1] At point 83 there are 22 clips\n",
      "Chain [1] At point 84 there are 20 clips\n",
      "Chain [1] At point 85 there are 13 clips\n",
      "Chain [1] At point 86 there are 12 clips\n",
      "Chain [1] At point 87 there are 15 clips\n",
      "Chain [1] At point 88 there are 15 clips\n",
      "Chain [1] At point 89 there are 4 clips\n",
      "Chain [1] At point 90 there are 11 clips\n",
      "Chain [1] At point 91 there are 3 clips\n",
      "Chain [1] At point 92 there are 8 clips\n",
      "Chain [1] At point 93 there are 2 clips\n",
      "Chain [1] At point 94 there are 3 clips\n",
      "Chain [1] At point 95 there are 3 clips\n",
      "Chain [1] At point 96 there are 1 clips\n",
      "Chain [1] At point 97 there are 1 clips\n",
      "Chain [1] At point 98 there are 1 clips\n",
      "Chain [1] At point 99 there are 0 clips\n",
      "Chain [1] At point 100 there are 0 clips\n",
      "Chain [1] Total:4950\n",
      "Chain [1] \n",
      "Chain [1] Gradient evaluation took 0.000758 seconds\n",
      "Chain [1] 1000 transitions using 10 leapfrog steps per transition would take 7.58 seconds.\n",
      "Chain [1] Adjust your expectations accordingly!\n",
      "Chain [1] \n",
      "Chain [1] \n",
      "Chain [1] Iteration:   1 / 1000 [  0%]  (Warmup)\n",
      "Chain [1] Iteration: 100 / 1000 [ 10%]  (Warmup)\n",
      "Chain [1] Iteration: 200 / 1000 [ 20%]  (Warmup)\n",
      "Chain [1] Iteration: 300 / 1000 [ 30%]  (Warmup)\n",
      "Chain [1] Iteration: 400 / 1000 [ 40%]  (Warmup)\n",
      "Chain [1] Iteration: 500 / 1000 [ 50%]  (Warmup)\n",
      "Chain [1] Iteration: 501 / 1000 [ 50%]  (Sampling)\n",
      "Chain [1] Iteration: 600 / 1000 [ 60%]  (Sampling)\n",
      "Chain [1] Iteration: 700 / 1000 [ 70%]  (Sampling)\n",
      "Chain [1] Iteration: 800 / 1000 [ 80%]  (Sampling)\n",
      "Chain [1] Iteration: 900 / 1000 [ 90%]  (Sampling)\n"
     ]
    },
    {
     "name": "stderr",
     "output_type": "stream",
     "text": [
      "16:43:01 - cmdstanpy - INFO - Chain [1] done processing\n"
     ]
    },
    {
     "name": "stdout",
     "output_type": "stream",
     "text": [
      "Chain [1] Iteration: 1000 / 1000 [100%]  (Sampling)\n",
      "Chain [1] \n",
      "Chain [1] Elapsed Time: 4.143 seconds (Warm-up)\n",
      "Chain [1] 3.609 seconds (Sampling)\n",
      "Chain [1] 7.752 seconds (Total)\n",
      "Chain [1] \n",
      "Chain [1] \n"
     ]
    }
   ],
   "source": [
    "# subset the data so we can fit the gp\n",
    "data_gp = data.copy()\n",
    "\n",
    "# fit the model\n",
    "fit = model.sample(data=data_gp, chains=1, iter_warmup=500, iter_sampling=500, show_console=True)"
   ]
  },
  {
   "cell_type": "code",
   "execution_count": 218,
   "metadata": {},
   "outputs": [
    {
     "data": {
      "text/html": [
       "<div>\n",
       "<style scoped>\n",
       "    .dataframe tbody tr th:only-of-type {\n",
       "        vertical-align: middle;\n",
       "    }\n",
       "\n",
       "    .dataframe tbody tr th {\n",
       "        vertical-align: top;\n",
       "    }\n",
       "\n",
       "    .dataframe thead th {\n",
       "        text-align: right;\n",
       "    }\n",
       "</style>\n",
       "<table border=\"1\" class=\"dataframe\">\n",
       "  <thead>\n",
       "    <tr style=\"text-align: right;\">\n",
       "      <th></th>\n",
       "      <th>Mean</th>\n",
       "      <th>MCSE</th>\n",
       "      <th>StdDev</th>\n",
       "      <th>5%</th>\n",
       "      <th>50%</th>\n",
       "      <th>95%</th>\n",
       "      <th>N_Eff</th>\n",
       "      <th>N_Eff/s</th>\n",
       "      <th>R_hat</th>\n",
       "    </tr>\n",
       "  </thead>\n",
       "  <tbody>\n",
       "    <tr>\n",
       "      <th>lp__</th>\n",
       "      <td>-86.147600</td>\n",
       "      <td>0.605354</td>\n",
       "      <td>8.251810</td>\n",
       "      <td>-100.159000</td>\n",
       "      <td>-85.691100</td>\n",
       "      <td>-73.02500</td>\n",
       "      <td>185.814000</td>\n",
       "      <td>51.486300</td>\n",
       "      <td>0.998727</td>\n",
       "    </tr>\n",
       "    <tr>\n",
       "      <th>rho</th>\n",
       "      <td>0.466439</td>\n",
       "      <td>0.035382</td>\n",
       "      <td>0.442604</td>\n",
       "      <td>0.120197</td>\n",
       "      <td>0.335246</td>\n",
       "      <td>1.25783</td>\n",
       "      <td>156.479000</td>\n",
       "      <td>43.358000</td>\n",
       "      <td>1.004240</td>\n",
       "    </tr>\n",
       "    <tr>\n",
       "      <th>alpha</th>\n",
       "      <td>0.935501</td>\n",
       "      <td>0.034377</td>\n",
       "      <td>0.565897</td>\n",
       "      <td>0.110223</td>\n",
       "      <td>0.888232</td>\n",
       "      <td>1.99189</td>\n",
       "      <td>270.979000</td>\n",
       "      <td>75.084400</td>\n",
       "      <td>1.001400</td>\n",
       "    </tr>\n",
       "    <tr>\n",
       "      <th>eta[1]</th>\n",
       "      <td>-0.444869</td>\n",
       "      <td>0.035321</td>\n",
       "      <td>0.961008</td>\n",
       "      <td>-2.022680</td>\n",
       "      <td>-0.430531</td>\n",
       "      <td>1.16815</td>\n",
       "      <td>740.273000</td>\n",
       "      <td>205.119000</td>\n",
       "      <td>0.998257</td>\n",
       "    </tr>\n",
       "    <tr>\n",
       "      <th>eta[2]</th>\n",
       "      <td>-0.054315</td>\n",
       "      <td>0.034933</td>\n",
       "      <td>0.995908</td>\n",
       "      <td>-1.694630</td>\n",
       "      <td>-0.041350</td>\n",
       "      <td>1.50456</td>\n",
       "      <td>812.743000</td>\n",
       "      <td>225.199000</td>\n",
       "      <td>0.998705</td>\n",
       "    </tr>\n",
       "    <tr>\n",
       "      <th>...</th>\n",
       "      <td>...</td>\n",
       "      <td>...</td>\n",
       "      <td>...</td>\n",
       "      <td>...</td>\n",
       "      <td>...</td>\n",
       "      <td>...</td>\n",
       "      <td>...</td>\n",
       "      <td>...</td>\n",
       "      <td>...</td>\n",
       "    </tr>\n",
       "    <tr>\n",
       "      <th>f[147]</th>\n",
       "      <td>7.419190</td>\n",
       "      <td>0.046613</td>\n",
       "      <td>1.089030</td>\n",
       "      <td>5.764320</td>\n",
       "      <td>7.342510</td>\n",
       "      <td>9.10884</td>\n",
       "      <td>545.845000</td>\n",
       "      <td>151.245000</td>\n",
       "      <td>0.999909</td>\n",
       "    </tr>\n",
       "    <tr>\n",
       "      <th>f[148]</th>\n",
       "      <td>7.646600</td>\n",
       "      <td>0.046049</td>\n",
       "      <td>1.065750</td>\n",
       "      <td>5.745620</td>\n",
       "      <td>7.615030</td>\n",
       "      <td>9.33173</td>\n",
       "      <td>535.639000</td>\n",
       "      <td>148.417000</td>\n",
       "      <td>0.999430</td>\n",
       "    </tr>\n",
       "    <tr>\n",
       "      <th>f[149]</th>\n",
       "      <td>7.789810</td>\n",
       "      <td>0.040118</td>\n",
       "      <td>1.044680</td>\n",
       "      <td>5.986960</td>\n",
       "      <td>7.829240</td>\n",
       "      <td>9.40471</td>\n",
       "      <td>678.100000</td>\n",
       "      <td>187.891000</td>\n",
       "      <td>0.998770</td>\n",
       "    </tr>\n",
       "    <tr>\n",
       "      <th>f[150]</th>\n",
       "      <td>8.027780</td>\n",
       "      <td>0.045755</td>\n",
       "      <td>1.072340</td>\n",
       "      <td>6.200550</td>\n",
       "      <td>8.074650</td>\n",
       "      <td>9.74665</td>\n",
       "      <td>549.264000</td>\n",
       "      <td>152.193000</td>\n",
       "      <td>0.999079</td>\n",
       "    </tr>\n",
       "    <tr>\n",
       "      <th>n_pos_pred</th>\n",
       "      <td>1678.498000</td>\n",
       "      <td>6.258118</td>\n",
       "      <td>104.409697</td>\n",
       "      <td>1485.000000</td>\n",
       "      <td>1700.000000</td>\n",
       "      <td>1807.00000</td>\n",
       "      <td>278.351899</td>\n",
       "      <td>77.127154</td>\n",
       "      <td>0.999407</td>\n",
       "    </tr>\n",
       "  </tbody>\n",
       "</table>\n",
       "<p>304 rows × 9 columns</p>\n",
       "</div>"
      ],
      "text/plain": [
       "                   Mean      MCSE      StdDev           5%          50%  \\\n",
       "lp__         -86.147600  0.605354    8.251810  -100.159000   -85.691100   \n",
       "rho            0.466439  0.035382    0.442604     0.120197     0.335246   \n",
       "alpha          0.935501  0.034377    0.565897     0.110223     0.888232   \n",
       "eta[1]        -0.444869  0.035321    0.961008    -2.022680    -0.430531   \n",
       "eta[2]        -0.054315  0.034933    0.995908    -1.694630    -0.041350   \n",
       "...                 ...       ...         ...          ...          ...   \n",
       "f[147]         7.419190  0.046613    1.089030     5.764320     7.342510   \n",
       "f[148]         7.646600  0.046049    1.065750     5.745620     7.615030   \n",
       "f[149]         7.789810  0.040118    1.044680     5.986960     7.829240   \n",
       "f[150]         8.027780  0.045755    1.072340     6.200550     8.074650   \n",
       "n_pos_pred  1678.498000  6.258118  104.409697  1485.000000  1700.000000   \n",
       "\n",
       "                   95%       N_Eff     N_Eff/s     R_hat  \n",
       "lp__         -73.02500  185.814000   51.486300  0.998727  \n",
       "rho            1.25783  156.479000   43.358000  1.004240  \n",
       "alpha          1.99189  270.979000   75.084400  1.001400  \n",
       "eta[1]         1.16815  740.273000  205.119000  0.998257  \n",
       "eta[2]         1.50456  812.743000  225.199000  0.998705  \n",
       "...                ...         ...         ...       ...  \n",
       "f[147]         9.10884  545.845000  151.245000  0.999909  \n",
       "f[148]         9.33173  535.639000  148.417000  0.999430  \n",
       "f[149]         9.40471  678.100000  187.891000  0.998770  \n",
       "f[150]         9.74665  549.264000  152.193000  0.999079  \n",
       "n_pos_pred  1807.00000  278.351899   77.127154  0.999407  \n",
       "\n",
       "[304 rows x 9 columns]"
      ]
     },
     "execution_count": 218,
     "metadata": {},
     "output_type": "execute_result"
    }
   ],
   "source": [
    "samples = fit.draws_pd()\n",
    "# summarize the results\n",
    "summary = fit.summary()\n",
    "summary"
   ]
  },
  {
   "cell_type": "code",
   "execution_count": 210,
   "metadata": {},
   "outputs": [
    {
     "data": {
      "image/png": "[encoded data removed]",
      "text/plain": [
       "<Figure size 2000x200 with 10 Axes>"
      ]
     },
     "metadata": {},
     "output_type": "display_data"
    }
   ],
   "source": [
    "# plot histograms of f[1], f[11], f[21], f[31], f[41], f[51], f[61], f[71], f[81], f[91]\n",
    "fig, ax = plt.subplots(1, 10, figsize=(20, 2))\n",
    "for i in range(10):\n",
    "    ax[i].hist(samples[f\"f[{i+1}]\"], bins=100, alpha=0.5, label=f\"f[{i+1}]\", color='green')\n",
    "    ax[i].set_title(f\"f[{i+1}]\")"
   ]
  },
  {
   "cell_type": "code",
   "execution_count": null,
   "metadata": {},
   "outputs": [],
   "source": []
  }
 ],
 "metadata": {
  "kernelspec": {
   "display_name": "cmdstanpy",
   "language": "python",
   "name": "python3"
  },
  "language_info": {
   "codemirror_mode": {
    "name": "ipython",
    "version": 3
   },
   "file_extension": ".py",
   "mimetype": "text/x-python",
   "name": "python",
   "nbconvert_exporter": "python",
   "pygments_lexer": "ipython3",
   "version": "3.13.1"
  }
 },
 "nbformat": 4,
 "nbformat_minor": 2
}
