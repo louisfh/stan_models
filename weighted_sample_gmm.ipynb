{
 "cells": [
  {
   "cell_type": "code",
   "execution_count": 32,
   "metadata": {},
   "outputs": [],
   "source": [
    "import numpy as np\n",
    "import pandas as pd\n",
    "import matplotlib.pyplot as plt\n",
    "\n",
    "# generate some data\n",
    "mu_0 = -5\n",
    "sigma_0 = 3\n",
    "mu_1 = 3\n",
    "sigma_1 = 2\n",
    "\n",
    "n_clips = 5000\n",
    "n_pos = 20\n",
    "\n",
    "# generate data\n",
    "scores = np.zeros(n_clips)\n",
    "labels = np.zeros(n_clips)\n",
    "scores[:n_pos] = np.random.normal(mu_1, sigma_1, n_pos)\n",
    "labels[:n_pos] = 1\n",
    "scores[n_pos:] = np.random.normal(mu_0, sigma_0, n_clips - n_pos)\n",
    "labels[n_pos:] = 0\n",
    "\n",
    "# make a labeling weighting. Try 1/rank\n",
    "df = pd.DataFrame({'score': scores, 'label': labels})\n",
    "df = df.sort_values(\"score\", ascending=False)\n",
    "df[\"weighting\"] = 1/(1 + np.arange(len(df)))\n",
    "\n",
    "# shuffle them just to remove any ordering\n",
    "df = df.sample(frac=1)\n",
    "\n",
    "# ensure labels are integers\n",
    "df[\"label\"] = df[\"label\"].astype(int)\n",
    "\n",
    "n_labeled = 10\n",
    "\n",
    "# sample according to the weighting\n",
    "labeled = df.sample(n_labeled, weights=\"weighting\")\n",
    "unlabeled = df.drop(labeled.index)\n",
    "\n",
    "# normalize the labeled weights\n",
    "labeled[\"weighting\"] = labeled[\"weighting\"] / labeled[\"weighting\"].sum()\n",
    "\n",
    "# make the data dictionary\n",
    "data = {'N_labeled': len(labeled), \n",
    "        'N_unlabeled': len(unlabeled), \n",
    "        'scores_labeled': labeled['score'].values, \n",
    "        'scores_unlabeled': unlabeled['score'].values,\n",
    "        'sampling_weight': labeled[\"weighting\"].values,\n",
    "        'labels': labeled[\"label\"].values}\n",
    "\n",
    "# make the data\n"
   ]
  },
  {
   "cell_type": "code",
   "execution_count": 33,
   "metadata": {},
   "outputs": [
    {
     "name": "stdout",
     "output_type": "stream",
     "text": [
      "Number of positives in labeled data: 1\n",
      "proportion of positives in labeled data: 0.1\n",
      "proportion of positives in all data: 0.004\n"
     ]
    },
    {
     "data": {
      "image/png": "[encoded data removed]",
      "text/plain": [
       "<Figure size 900x300 with 3 Axes>"
      ]
     },
     "metadata": {},
     "output_type": "display_data"
    }
   ],
   "source": [
    "# plot the histogram of scores\n",
    "import matplotlib.pyplot as plt\n",
    "fig, ax = plt.subplots(1, 3, figsize=(9, 3), sharex=True)\n",
    "pos = df[df['label'] == 1]\n",
    "neg = df[df['label'] == 0]\n",
    "ax[0].hist(pos['score'], bins=100, alpha=0.5, label='pos', color='red')\n",
    "ax[0].hist(neg['score'], bins=100, alpha=0.5, label='neg', color='blue')\n",
    "ax[1].hist(df['score'], bins=100, alpha=0.5, label='all', color='green')\n",
    "ax[2].hist(labeled[labeled[\"label\"] ==1]['score'], bins=10, alpha=0.5, label='labeled', color='red')\n",
    "ax[2].hist(labeled[labeled[\"label\"] ==0]['score'], bins=50, alpha=0.5, label='unlabeled', color='blue')\n",
    "print(f\"Number of positives in labeled data: {np.sum(labeled['label'])}\")\n",
    "print(f\"proportion of positives in labeled data: {np.mean(labeled['label'])}\")\n",
    "print(f\"proportion of positives in all data: {np.mean(df['label'])}\")"
   ]
  },
  {
   "cell_type": "code",
   "execution_count": 34,
   "metadata": {},
   "outputs": [],
   "source": [
    "#import cmdstanpy and use the stan model\n",
    "import cmdstanpy\n",
    "file = \"weighted_sample_gmm.stan\"\n",
    "model = cmdstanpy.CmdStanModel(stan_file=file)"
   ]
  },
  {
   "cell_type": "code",
   "execution_count": 35,
   "metadata": {},
   "outputs": [
    {
     "name": "stderr",
     "output_type": "stream",
     "text": [
      "10:13:44 - cmdstanpy - INFO - CmdStan start processing\n"
     ]
    },
    {
     "data": {
      "application/vnd.jupyter.widget-view+json": {
       "model_id": "288700330e3c4393bf912b80be51be19",
       "version_major": 2,
       "version_minor": 0
      },
      "text/plain": [
       "chain 1 |          | 00:00 Status"
      ]
     },
     "metadata": {},
     "output_type": "display_data"
    },
    {
     "data": {
      "application/vnd.jupyter.widget-view+json": {
       "model_id": "bebe0ecc0adf4b2a9b54945f3c27898b",
       "version_major": 2,
       "version_minor": 0
      },
      "text/plain": [
       "chain 2 |          | 00:00 Status"
      ]
     },
     "metadata": {},
     "output_type": "display_data"
    },
    {
     "data": {
      "application/vnd.jupyter.widget-view+json": {
       "model_id": "8ebac0b45259432a9064eaefa9f7afe8",
       "version_major": 2,
       "version_minor": 0
      },
      "text/plain": [
       "chain 3 |          | 00:00 Status"
      ]
     },
     "metadata": {},
     "output_type": "display_data"
    },
    {
     "data": {
      "application/vnd.jupyter.widget-view+json": {
       "model_id": "0b31354c91b046c0b19c23fe6137c091",
       "version_major": 2,
       "version_minor": 0
      },
      "text/plain": [
       "chain 4 |          | 00:00 Status"
      ]
     },
     "metadata": {},
     "output_type": "display_data"
    },
    {
     "name": "stdout",
     "output_type": "stream",
     "text": [
      "                                                                                                                                                                                                                                                                                                                                "
     ]
    },
    {
     "name": "stderr",
     "output_type": "stream",
     "text": [
      "10:13:54 - cmdstanpy - INFO - CmdStan done processing.\n"
     ]
    },
    {
     "name": "stdout",
     "output_type": "stream",
     "text": [
      "\n"
     ]
    }
   ],
   "source": [
    "# fit the model\n",
    "fit = model.sample(data=data, chains=4, iter_warmup=250, iter_sampling=250)"
   ]
  },
  {
   "cell_type": "code",
   "execution_count": 36,
   "metadata": {},
   "outputs": [],
   "source": [
    "samples = fit.draws_pd()\n",
    "# summarize the results\n",
    "summary = fit.summary()"
   ]
  },
  {
   "cell_type": "code",
   "execution_count": 37,
   "metadata": {},
   "outputs": [
    {
     "data": {
      "text/html": [
       "<div>\n",
       "<style scoped>\n",
       "    .dataframe tbody tr th:only-of-type {\n",
       "        vertical-align: middle;\n",
       "    }\n",
       "\n",
       "    .dataframe tbody tr th {\n",
       "        vertical-align: top;\n",
       "    }\n",
       "\n",
       "    .dataframe thead th {\n",
       "        text-align: right;\n",
       "    }\n",
       "</style>\n",
       "<table border=\"1\" class=\"dataframe\">\n",
       "  <thead>\n",
       "    <tr style=\"text-align: right;\">\n",
       "      <th></th>\n",
       "      <th>Mean</th>\n",
       "      <th>MCSE</th>\n",
       "      <th>StdDev</th>\n",
       "      <th>5%</th>\n",
       "      <th>50%</th>\n",
       "      <th>95%</th>\n",
       "      <th>N_Eff</th>\n",
       "      <th>N_Eff/s</th>\n",
       "      <th>R_hat</th>\n",
       "    </tr>\n",
       "  </thead>\n",
       "  <tbody>\n",
       "    <tr>\n",
       "      <th>lp__</th>\n",
       "      <td>-14185.80000</td>\n",
       "      <td>0.142949</td>\n",
       "      <td>2.015060</td>\n",
       "      <td>-14189.900000</td>\n",
       "      <td>-14185.30000</td>\n",
       "      <td>-14183.40000</td>\n",
       "      <td>198.70600</td>\n",
       "      <td>20.03490</td>\n",
       "      <td>1.00918</td>\n",
       "    </tr>\n",
       "    <tr>\n",
       "      <th>mu[1]</th>\n",
       "      <td>-5.09025</td>\n",
       "      <td>0.002077</td>\n",
       "      <td>0.041625</td>\n",
       "      <td>-5.161890</td>\n",
       "      <td>-5.09038</td>\n",
       "      <td>-5.02184</td>\n",
       "      <td>401.79200</td>\n",
       "      <td>40.51140</td>\n",
       "      <td>1.00386</td>\n",
       "    </tr>\n",
       "    <tr>\n",
       "      <th>mu[2]</th>\n",
       "      <td>1.89054</td>\n",
       "      <td>0.046552</td>\n",
       "      <td>0.962845</td>\n",
       "      <td>0.322918</td>\n",
       "      <td>1.96595</td>\n",
       "      <td>3.17877</td>\n",
       "      <td>427.79400</td>\n",
       "      <td>43.13310</td>\n",
       "      <td>1.01304</td>\n",
       "    </tr>\n",
       "    <tr>\n",
       "      <th>sigma[1]</th>\n",
       "      <td>2.77714</td>\n",
       "      <td>0.001505</td>\n",
       "      <td>0.033065</td>\n",
       "      <td>2.722730</td>\n",
       "      <td>2.77625</td>\n",
       "      <td>2.83124</td>\n",
       "      <td>482.42400</td>\n",
       "      <td>48.64120</td>\n",
       "      <td>1.00541</td>\n",
       "    </tr>\n",
       "    <tr>\n",
       "      <th>sigma[2]</th>\n",
       "      <td>1.75999</td>\n",
       "      <td>0.047515</td>\n",
       "      <td>0.707776</td>\n",
       "      <td>0.907664</td>\n",
       "      <td>1.66255</td>\n",
       "      <td>2.91613</td>\n",
       "      <td>221.88300</td>\n",
       "      <td>22.37180</td>\n",
       "      <td>1.01905</td>\n",
       "    </tr>\n",
       "    <tr>\n",
       "      <th>theta</th>\n",
       "      <td>0.00730</td>\n",
       "      <td>0.000220</td>\n",
       "      <td>0.004040</td>\n",
       "      <td>0.001910</td>\n",
       "      <td>0.00667</td>\n",
       "      <td>0.01509</td>\n",
       "      <td>345.01979</td>\n",
       "      <td>34.78723</td>\n",
       "      <td>1.00559</td>\n",
       "    </tr>\n",
       "    <tr>\n",
       "      <th>n_pos_pred</th>\n",
       "      <td>41.83100</td>\n",
       "      <td>1.258550</td>\n",
       "      <td>22.157290</td>\n",
       "      <td>12.000000</td>\n",
       "      <td>38.00000</td>\n",
       "      <td>81.00000</td>\n",
       "      <td>309.95269</td>\n",
       "      <td>31.25153</td>\n",
       "      <td>1.00853</td>\n",
       "    </tr>\n",
       "  </tbody>\n",
       "</table>\n",
       "</div>"
      ],
      "text/plain": [
       "                   Mean      MCSE     StdDev            5%          50%  \\\n",
       "lp__       -14185.80000  0.142949   2.015060 -14189.900000 -14185.30000   \n",
       "mu[1]          -5.09025  0.002077   0.041625     -5.161890     -5.09038   \n",
       "mu[2]           1.89054  0.046552   0.962845      0.322918      1.96595   \n",
       "sigma[1]        2.77714  0.001505   0.033065      2.722730      2.77625   \n",
       "sigma[2]        1.75999  0.047515   0.707776      0.907664      1.66255   \n",
       "theta           0.00730  0.000220   0.004040      0.001910      0.00667   \n",
       "n_pos_pred     41.83100  1.258550  22.157290     12.000000     38.00000   \n",
       "\n",
       "                    95%      N_Eff   N_Eff/s    R_hat  \n",
       "lp__       -14183.40000  198.70600  20.03490  1.00918  \n",
       "mu[1]          -5.02184  401.79200  40.51140  1.00386  \n",
       "mu[2]           3.17877  427.79400  43.13310  1.01304  \n",
       "sigma[1]        2.83124  482.42400  48.64120  1.00541  \n",
       "sigma[2]        2.91613  221.88300  22.37180  1.01905  \n",
       "theta           0.01509  345.01979  34.78723  1.00559  \n",
       "n_pos_pred     81.00000  309.95269  31.25153  1.00853  "
      ]
     },
     "execution_count": 37,
     "metadata": {},
     "output_type": "execute_result"
    }
   ],
   "source": [
    "summary"
   ]
  },
  {
   "cell_type": "code",
   "execution_count": null,
   "metadata": {},
   "outputs": [],
   "source": []
  }
 ],
 "metadata": {
  "kernelspec": {
   "display_name": "cmdstanpy",
   "language": "python",
   "name": "python3"
  },
  "language_info": {
   "codemirror_mode": {
    "name": "ipython",
    "version": 3
   },
   "file_extension": ".py",
   "mimetype": "text/x-python",
   "name": "python",
   "nbconvert_exporter": "python",
   "pygments_lexer": "ipython3",
   "version": "3.13.1"
  }
 },
 "nbformat": 4,
 "nbformat_minor": 2
}
