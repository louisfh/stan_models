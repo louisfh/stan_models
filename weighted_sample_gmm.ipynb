{
 "cells": [
  {
   "cell_type": "code",
   "execution_count": 299,
   "metadata": {},
   "outputs": [],
   "source": [
    "import numpy as np\n",
    "import pandas as pd\n",
    "import matplotlib.pyplot as plt\n",
    "\n",
    "# generate some data\n",
    "mu_0 = -6\n",
    "sigma_0 = 3\n",
    "mu_1 = 3\n",
    "sigma_1 = 2\n",
    "\n",
    "n_clips = 2000\n",
    "n_pos = 50\n",
    "\n",
    "# generate data\n",
    "scores = np.zeros(n_clips)\n",
    "labels = np.zeros(n_clips)\n",
    "scores[:n_pos] = np.random.normal(mu_1, sigma_1, n_pos)\n",
    "labels[:n_pos] = 1\n",
    "scores[n_pos:] = np.random.normal(mu_0, sigma_0, n_clips - n_pos)\n",
    "labels[n_pos:] = 0\n",
    "\n",
    "# make a labeling weighting. Try 1/rank\n",
    "df = pd.DataFrame({'score': scores, 'label': labels})\n",
    "df = df.sort_values(\"score\", ascending=False)\n",
    "df[\"weighting\"] = 1/(1 + np.arange(len(df)))\n",
    "\n",
    "# shuffle them just to remove any ordering\n",
    "df = df.sample(frac=1)\n",
    "\n",
    "# ensure labels are integers\n",
    "df[\"label\"] = df[\"label\"].astype(int)\n",
    "\n",
    "n_labeled = 20\n",
    "\n",
    "# sample according to the weighting\n",
    "labeled = df.sample(n_labeled, weights=\"weighting\")\n",
    "unlabeled = df.drop(labeled.index)\n",
    "\n",
    "# normalize the labeled weights\n",
    "labeled[\"weighting\"] = labeled[\"weighting\"] / labeled[\"weighting\"].sum()\n",
    "\n",
    "# make the data dictionary\n",
    "data = {'N_labeled': len(labeled), \n",
    "        'N_unlabeled': len(unlabeled), \n",
    "        'scores_labeled': labeled['score'].values, \n",
    "        'scores_unlabeled': unlabeled['score'].values,\n",
    "        'sampling_weight': labeled[\"weighting\"].values,\n",
    "        'labels': labeled[\"label\"].values}\n",
    "\n",
    "# make the data\n"
   ]
  },
  {
   "cell_type": "code",
   "execution_count": 300,
   "metadata": {},
   "outputs": [
    {
     "name": "stdout",
     "output_type": "stream",
     "text": [
      "Number of positives in labeled data: 13\n",
      "proportion of positives in labeled data: 0.65\n",
      "proportion of positives in all data: 0.025\n"
     ]
    },
    {
     "data": {
      "image/png": "[encoded data removed]",
      "text/plain": [
       "<Figure size 900x300 with 3 Axes>"
      ]
     },
     "metadata": {},
     "output_type": "display_data"
    }
   ],
   "source": [
    "# plot the histogram of scores\n",
    "import matplotlib.pyplot as plt\n",
    "fig, ax = plt.subplots(1, 3, figsize=(9, 3), sharex=True)\n",
    "pos = df[df['label'] == 1]\n",
    "neg = df[df['label'] == 0]\n",
    "ax[0].hist(pos['score'], bins=100, alpha=0.5, label='pos', color='red')\n",
    "ax[0].hist(neg['score'], bins=100, alpha=0.5, label='neg', color='blue')\n",
    "ax[1].hist(df['score'], bins=100, alpha=0.5, label='all', color='green')\n",
    "ax[2].hist(labeled[labeled[\"label\"] ==1]['score'], bins=10, alpha=0.5, label='labeled', color='red')\n",
    "ax[2].hist(labeled[labeled[\"label\"] ==0]['score'], bins=50, alpha=0.5, label='unlabeled', color='blue')\n",
    "print(f\"Number of positives in labeled data: {np.sum(labeled['label'])}\")\n",
    "print(f\"proportion of positives in labeled data: {np.mean(labeled['label'])}\")\n",
    "print(f\"proportion of positives in all data: {np.mean(df['label'])}\")"
   ]
  },
  {
   "cell_type": "code",
   "execution_count": 301,
   "metadata": {},
   "outputs": [],
   "source": [
    "#import cmdstanpy and use the stan model\n",
    "import cmdstanpy\n",
    "file = \"weighted_sample_gmm.stan\"\n",
    "model = cmdstanpy.CmdStanModel(stan_file=file)"
   ]
  },
  {
   "cell_type": "code",
   "execution_count": 302,
   "metadata": {},
   "outputs": [
    {
     "name": "stderr",
     "output_type": "stream",
     "text": [
      "23:34:58 - cmdstanpy - INFO - CmdStan start processing\n"
     ]
    },
    {
     "data": {
      "application/vnd.jupyter.widget-view+json": {
       "model_id": "4e06803c0de940a19c11d8dc857f5235",
       "version_major": 2,
       "version_minor": 0
      },
      "text/plain": [
       "chain 1 |          | 00:00 Status"
      ]
     },
     "metadata": {},
     "output_type": "display_data"
    },
    {
     "data": {
      "application/vnd.jupyter.widget-view+json": {
       "model_id": "23500c943dc24144aed5a5005822d23b",
       "version_major": 2,
       "version_minor": 0
      },
      "text/plain": [
       "chain 2 |          | 00:00 Status"
      ]
     },
     "metadata": {},
     "output_type": "display_data"
    },
    {
     "data": {
      "application/vnd.jupyter.widget-view+json": {
       "model_id": "cb278179388e4b6aa891e94b62f8f4f4",
       "version_major": 2,
       "version_minor": 0
      },
      "text/plain": [
       "chain 3 |          | 00:00 Status"
      ]
     },
     "metadata": {},
     "output_type": "display_data"
    },
    {
     "data": {
      "application/vnd.jupyter.widget-view+json": {
       "model_id": "ecf9c57cf95643e0a9d188af8812e24d",
       "version_major": 2,
       "version_minor": 0
      },
      "text/plain": [
       "chain 4 |          | 00:00 Status"
      ]
     },
     "metadata": {},
     "output_type": "display_data"
    },
    {
     "name": "stdout",
     "output_type": "stream",
     "text": [
      "                                                                                                                                                                                                                                                                                                                                "
     ]
    },
    {
     "name": "stderr",
     "output_type": "stream",
     "text": [
      "23:35:01 - cmdstanpy - INFO - CmdStan done processing.\n",
      "23:35:01 - cmdstanpy - WARNING - Non-fatal error during sampling:\n",
      "Exception: normal_lpdf: Scale parameter is 0, but must be positive! (in 'weighted_sample_gmm.stan', line 29, column 12 to line 31, column 86)\n",
      "Exception: normal_lpdf: Scale parameter is 0, but must be positive! (in 'weighted_sample_gmm.stan', line 29, column 12 to line 31, column 86)\n",
      "Consider re-running with show_console=True if the above output is unclear!\n"
     ]
    },
    {
     "name": "stdout",
     "output_type": "stream",
     "text": [
      "\n"
     ]
    }
   ],
   "source": [
    "# fit the model\n",
    "fit = model.sample(data=data, chains=4, iter_warmup=250, iter_sampling=250)"
   ]
  },
  {
   "cell_type": "code",
   "execution_count": 303,
   "metadata": {},
   "outputs": [
    {
     "data": {
      "text/html": [
       "<div>\n",
       "<style scoped>\n",
       "    .dataframe tbody tr th:only-of-type {\n",
       "        vertical-align: middle;\n",
       "    }\n",
       "\n",
       "    .dataframe tbody tr th {\n",
       "        vertical-align: top;\n",
       "    }\n",
       "\n",
       "    .dataframe thead th {\n",
       "        text-align: right;\n",
       "    }\n",
       "</style>\n",
       "<table border=\"1\" class=\"dataframe\">\n",
       "  <thead>\n",
       "    <tr style=\"text-align: right;\">\n",
       "      <th></th>\n",
       "      <th>Mean</th>\n",
       "      <th>MCSE</th>\n",
       "      <th>StdDev</th>\n",
       "      <th>5%</th>\n",
       "      <th>50%</th>\n",
       "      <th>95%</th>\n",
       "      <th>N_Eff</th>\n",
       "      <th>N_Eff/s</th>\n",
       "      <th>R_hat</th>\n",
       "    </tr>\n",
       "  </thead>\n",
       "  <tbody>\n",
       "    <tr>\n",
       "      <th>lp__</th>\n",
       "      <td>-7318.50000</td>\n",
       "      <td>0.082032</td>\n",
       "      <td>1.619330</td>\n",
       "      <td>-7321.73000</td>\n",
       "      <td>-7318.14000</td>\n",
       "      <td>-7316.55000</td>\n",
       "      <td>389.67800</td>\n",
       "      <td>122.42500</td>\n",
       "      <td>1.00436</td>\n",
       "    </tr>\n",
       "    <tr>\n",
       "      <th>mu[1]</th>\n",
       "      <td>-6.37144</td>\n",
       "      <td>0.001784</td>\n",
       "      <td>0.057743</td>\n",
       "      <td>-6.46571</td>\n",
       "      <td>-6.37084</td>\n",
       "      <td>-6.27933</td>\n",
       "      <td>1047.48000</td>\n",
       "      <td>329.08600</td>\n",
       "      <td>1.00109</td>\n",
       "    </tr>\n",
       "    <tr>\n",
       "      <th>mu[2]</th>\n",
       "      <td>2.31533</td>\n",
       "      <td>0.012453</td>\n",
       "      <td>0.299406</td>\n",
       "      <td>1.76133</td>\n",
       "      <td>2.34706</td>\n",
       "      <td>2.75992</td>\n",
       "      <td>578.02900</td>\n",
       "      <td>181.59900</td>\n",
       "      <td>1.00052</td>\n",
       "    </tr>\n",
       "    <tr>\n",
       "      <th>sigma[1]</th>\n",
       "      <td>2.79492</td>\n",
       "      <td>0.001351</td>\n",
       "      <td>0.043846</td>\n",
       "      <td>2.72215</td>\n",
       "      <td>2.79460</td>\n",
       "      <td>2.86931</td>\n",
       "      <td>1053.52000</td>\n",
       "      <td>330.98500</td>\n",
       "      <td>1.00080</td>\n",
       "    </tr>\n",
       "    <tr>\n",
       "      <th>sigma[2]</th>\n",
       "      <td>1.45305</td>\n",
       "      <td>0.008760</td>\n",
       "      <td>0.204667</td>\n",
       "      <td>1.15167</td>\n",
       "      <td>1.43316</td>\n",
       "      <td>1.81604</td>\n",
       "      <td>545.83400</td>\n",
       "      <td>171.48400</td>\n",
       "      <td>1.00287</td>\n",
       "    </tr>\n",
       "    <tr>\n",
       "      <th>theta</th>\n",
       "      <td>0.02831</td>\n",
       "      <td>0.000170</td>\n",
       "      <td>0.004120</td>\n",
       "      <td>0.02205</td>\n",
       "      <td>0.02804</td>\n",
       "      <td>0.03530</td>\n",
       "      <td>594.00798</td>\n",
       "      <td>186.61891</td>\n",
       "      <td>1.00053</td>\n",
       "    </tr>\n",
       "    <tr>\n",
       "      <th>n_pos_pred</th>\n",
       "      <td>67.44900</td>\n",
       "      <td>0.386990</td>\n",
       "      <td>9.033770</td>\n",
       "      <td>55.00000</td>\n",
       "      <td>66.00000</td>\n",
       "      <td>84.00000</td>\n",
       "      <td>544.93002</td>\n",
       "      <td>171.20013</td>\n",
       "      <td>1.00123</td>\n",
       "    </tr>\n",
       "  </tbody>\n",
       "</table>\n",
       "</div>"
      ],
      "text/plain": [
       "                  Mean      MCSE    StdDev          5%         50%  \\\n",
       "lp__       -7318.50000  0.082032  1.619330 -7321.73000 -7318.14000   \n",
       "mu[1]         -6.37144  0.001784  0.057743    -6.46571    -6.37084   \n",
       "mu[2]          2.31533  0.012453  0.299406     1.76133     2.34706   \n",
       "sigma[1]       2.79492  0.001351  0.043846     2.72215     2.79460   \n",
       "sigma[2]       1.45305  0.008760  0.204667     1.15167     1.43316   \n",
       "theta          0.02831  0.000170  0.004120     0.02205     0.02804   \n",
       "n_pos_pred    67.44900  0.386990  9.033770    55.00000    66.00000   \n",
       "\n",
       "                   95%       N_Eff    N_Eff/s    R_hat  \n",
       "lp__       -7316.55000   389.67800  122.42500  1.00436  \n",
       "mu[1]         -6.27933  1047.48000  329.08600  1.00109  \n",
       "mu[2]          2.75992   578.02900  181.59900  1.00052  \n",
       "sigma[1]       2.86931  1053.52000  330.98500  1.00080  \n",
       "sigma[2]       1.81604   545.83400  171.48400  1.00287  \n",
       "theta          0.03530   594.00798  186.61891  1.00053  \n",
       "n_pos_pred    84.00000   544.93002  171.20013  1.00123  "
      ]
     },
     "execution_count": 303,
     "metadata": {},
     "output_type": "execute_result"
    }
   ],
   "source": [
    "samples = fit.draws_pd()\n",
    "# summarize the results\n",
    "summary = fit.summary()\n",
    "summary"
   ]
  },
  {
   "cell_type": "code",
   "execution_count": 308,
   "metadata": {},
   "outputs": [
    {
     "name": "stderr",
     "output_type": "stream",
     "text": [
      "23:37:37 - cmdstanpy - INFO - CmdStan start processing\n"
     ]
    },
    {
     "data": {
      "application/vnd.jupyter.widget-view+json": {
       "model_id": "129d6f8f17864e549bd9d3f48fc6f21c",
       "version_major": 2,
       "version_minor": 0
      },
      "text/plain": [
       "chain 1 |          | 00:00 Status"
      ]
     },
     "metadata": {},
     "output_type": "display_data"
    },
    {
     "data": {
      "application/vnd.jupyter.widget-view+json": {
       "model_id": "c0c70d4fe49e4f75b10f48261b5c5c68",
       "version_major": 2,
       "version_minor": 0
      },
      "text/plain": [
       "chain 2 |          | 00:00 Status"
      ]
     },
     "metadata": {},
     "output_type": "display_data"
    },
    {
     "data": {
      "application/vnd.jupyter.widget-view+json": {
       "model_id": "0e97904af4c84279914ccb5a32be91b2",
       "version_major": 2,
       "version_minor": 0
      },
      "text/plain": [
       "chain 3 |          | 00:00 Status"
      ]
     },
     "metadata": {},
     "output_type": "display_data"
    },
    {
     "data": {
      "application/vnd.jupyter.widget-view+json": {
       "model_id": "75057f060ade4fa98a97b1cf1b16a77e",
       "version_major": 2,
       "version_minor": 0
      },
      "text/plain": [
       "chain 4 |          | 00:00 Status"
      ]
     },
     "metadata": {},
     "output_type": "display_data"
    },
    {
     "name": "stdout",
     "output_type": "stream",
     "text": [
      "                                                                                                                                                                                                                                                                                                                                "
     ]
    },
    {
     "name": "stderr",
     "output_type": "stream",
     "text": [
      "23:37:44 - cmdstanpy - INFO - CmdStan done processing.\n",
      "23:37:44 - cmdstanpy - WARNING - Non-fatal error during sampling:\n",
      "Exception: normal_lpdf: Location parameter is inf, but must be finite! (in 'gmm.stan', line 27, column 12 to line 29, column 86)\n",
      "\tException: normal_lpdf: Location parameter is inf, but must be finite! (in 'gmm.stan', line 27, column 12 to line 29, column 86)\n",
      "Exception: normal_lpdf: Location parameter is inf, but must be finite! (in 'gmm.stan', line 27, column 12 to line 29, column 86)\n",
      "\tException: normal_lpdf: Location parameter is inf, but must be finite! (in 'gmm.stan', line 27, column 12 to line 29, column 86)\n",
      "Consider re-running with show_console=True if the above output is unclear!\n"
     ]
    },
    {
     "name": "stdout",
     "output_type": "stream",
     "text": [
      "\n"
     ]
    }
   ],
   "source": [
    "# now compare it to regular gmm model\n",
    "file = \"gmm.stan\"\n",
    "model = cmdstanpy.CmdStanModel(stan_file=file)\n",
    "fit = model.sample(data=data, chains=4, iter_warmup=250, iter_sampling=500)\n",
    "samples = fit.draws_pd()\n",
    "# summarize the results\n",
    "summary = fit.summary()"
   ]
  },
  {
   "cell_type": "code",
   "execution_count": 309,
   "metadata": {},
   "outputs": [
    {
     "data": {
      "text/html": [
       "<div>\n",
       "<style scoped>\n",
       "    .dataframe tbody tr th:only-of-type {\n",
       "        vertical-align: middle;\n",
       "    }\n",
       "\n",
       "    .dataframe tbody tr th {\n",
       "        vertical-align: top;\n",
       "    }\n",
       "\n",
       "    .dataframe thead th {\n",
       "        text-align: right;\n",
       "    }\n",
       "</style>\n",
       "<table border=\"1\" class=\"dataframe\">\n",
       "  <thead>\n",
       "    <tr style=\"text-align: right;\">\n",
       "      <th></th>\n",
       "      <th>Mean</th>\n",
       "      <th>MCSE</th>\n",
       "      <th>StdDev</th>\n",
       "      <th>5%</th>\n",
       "      <th>50%</th>\n",
       "      <th>95%</th>\n",
       "      <th>N_Eff</th>\n",
       "      <th>N_Eff/s</th>\n",
       "      <th>R_hat</th>\n",
       "    </tr>\n",
       "  </thead>\n",
       "  <tbody>\n",
       "    <tr>\n",
       "      <th>lp__</th>\n",
       "      <td>-5189.660000</td>\n",
       "      <td>0.063342</td>\n",
       "      <td>1.627360</td>\n",
       "      <td>-5192.760000</td>\n",
       "      <td>-5189.360000</td>\n",
       "      <td>-5187.570000</td>\n",
       "      <td>660.066000</td>\n",
       "      <td>44.201800</td>\n",
       "      <td>1.003330</td>\n",
       "    </tr>\n",
       "    <tr>\n",
       "      <th>mu[1]</th>\n",
       "      <td>-6.168700</td>\n",
       "      <td>0.005069</td>\n",
       "      <td>0.116877</td>\n",
       "      <td>-6.371490</td>\n",
       "      <td>-6.161520</td>\n",
       "      <td>-5.989770</td>\n",
       "      <td>531.712000</td>\n",
       "      <td>35.606500</td>\n",
       "      <td>1.003150</td>\n",
       "    </tr>\n",
       "    <tr>\n",
       "      <th>mu[2]</th>\n",
       "      <td>-0.477173</td>\n",
       "      <td>0.098947</td>\n",
       "      <td>1.923350</td>\n",
       "      <td>-3.855750</td>\n",
       "      <td>-0.287174</td>\n",
       "      <td>2.356880</td>\n",
       "      <td>377.843000</td>\n",
       "      <td>25.302600</td>\n",
       "      <td>0.998481</td>\n",
       "    </tr>\n",
       "    <tr>\n",
       "      <th>sigma[1]</th>\n",
       "      <td>2.891850</td>\n",
       "      <td>0.003274</td>\n",
       "      <td>0.078291</td>\n",
       "      <td>2.758820</td>\n",
       "      <td>2.895180</td>\n",
       "      <td>3.012870</td>\n",
       "      <td>571.963000</td>\n",
       "      <td>38.301900</td>\n",
       "      <td>1.003180</td>\n",
       "    </tr>\n",
       "    <tr>\n",
       "      <th>sigma[2]</th>\n",
       "      <td>3.299390</td>\n",
       "      <td>0.035309</td>\n",
       "      <td>0.740586</td>\n",
       "      <td>2.127310</td>\n",
       "      <td>3.298830</td>\n",
       "      <td>4.492110</td>\n",
       "      <td>439.919000</td>\n",
       "      <td>29.459500</td>\n",
       "      <td>0.999097</td>\n",
       "    </tr>\n",
       "    <tr>\n",
       "      <th>theta</th>\n",
       "      <td>0.083776</td>\n",
       "      <td>0.002670</td>\n",
       "      <td>0.053212</td>\n",
       "      <td>0.029077</td>\n",
       "      <td>0.067311</td>\n",
       "      <td>0.195276</td>\n",
       "      <td>397.239903</td>\n",
       "      <td>26.601480</td>\n",
       "      <td>1.000749</td>\n",
       "    </tr>\n",
       "    <tr>\n",
       "      <th>n_pos_pred</th>\n",
       "      <td>166.826000</td>\n",
       "      <td>5.334064</td>\n",
       "      <td>106.255969</td>\n",
       "      <td>59.000000</td>\n",
       "      <td>133.000000</td>\n",
       "      <td>386.000000</td>\n",
       "      <td>396.816972</td>\n",
       "      <td>26.573158</td>\n",
       "      <td>1.000622</td>\n",
       "    </tr>\n",
       "  </tbody>\n",
       "</table>\n",
       "</div>"
      ],
      "text/plain": [
       "                   Mean      MCSE      StdDev           5%          50%  \\\n",
       "lp__       -5189.660000  0.063342    1.627360 -5192.760000 -5189.360000   \n",
       "mu[1]         -6.168700  0.005069    0.116877    -6.371490    -6.161520   \n",
       "mu[2]         -0.477173  0.098947    1.923350    -3.855750    -0.287174   \n",
       "sigma[1]       2.891850  0.003274    0.078291     2.758820     2.895180   \n",
       "sigma[2]       3.299390  0.035309    0.740586     2.127310     3.298830   \n",
       "theta          0.083776  0.002670    0.053212     0.029077     0.067311   \n",
       "n_pos_pred   166.826000  5.334064  106.255969    59.000000   133.000000   \n",
       "\n",
       "                    95%       N_Eff    N_Eff/s     R_hat  \n",
       "lp__       -5187.570000  660.066000  44.201800  1.003330  \n",
       "mu[1]         -5.989770  531.712000  35.606500  1.003150  \n",
       "mu[2]          2.356880  377.843000  25.302600  0.998481  \n",
       "sigma[1]       3.012870  571.963000  38.301900  1.003180  \n",
       "sigma[2]       4.492110  439.919000  29.459500  0.999097  \n",
       "theta          0.195276  397.239903  26.601480  1.000749  \n",
       "n_pos_pred   386.000000  396.816972  26.573158  1.000622  "
      ]
     },
     "execution_count": 309,
     "metadata": {},
     "output_type": "execute_result"
    }
   ],
   "source": [
    "summary"
   ]
  },
  {
   "cell_type": "code",
   "execution_count": 313,
   "metadata": {},
   "outputs": [
    {
     "name": "stderr",
     "output_type": "stream",
     "text": [
      "23:38:50 - cmdstanpy - INFO - compiling stan file /Users/LOF19/Dev/stan_models/GP.stan to exe file /Users/LOF19/Dev/stan_models/GP\n",
      "23:39:10 - cmdstanpy - INFO - compiled model executable: /Users/LOF19/Dev/stan_models/GP\n"
     ]
    }
   ],
   "source": [
    "# try with the GP model\n",
    "#import cmdstanpy and use the stan model\n",
    "file = \"GP.stan\"\n",
    "model = cmdstanpy.CmdStanModel(stan_file=file)"
   ]
  },
  {
   "cell_type": "code",
   "execution_count": 314,
   "metadata": {},
   "outputs": [
    {
     "name": "stderr",
     "output_type": "stream",
     "text": [
      "23:39:11 - cmdstanpy - INFO - Chain [1] start processing\n"
     ]
    },
    {
     "name": "stdout",
     "output_type": "stream",
     "text": [
      "Chain [1] method = sample (Default)\n",
      "Chain [1] sample\n",
      "Chain [1] num_samples = 500\n",
      "Chain [1] num_warmup = 500\n",
      "Chain [1] save_warmup = false (Default)\n",
      "Chain [1] thin = 1 (Default)\n",
      "Chain [1] adapt\n",
      "Chain [1] engaged = true (Default)\n",
      "Chain [1] gamma = 0.05 (Default)\n",
      "Chain [1] delta = 0.8 (Default)\n",
      "Chain [1] kappa = 0.75 (Default)\n",
      "Chain [1] t0 = 10 (Default)\n",
      "Chain [1] init_buffer = 75 (Default)\n",
      "Chain [1] term_buffer = 50 (Default)\n",
      "Chain [1] window = 25 (Default)\n",
      "Chain [1] save_metric = false (Default)\n",
      "Chain [1] algorithm = hmc (Default)\n",
      "Chain [1] hmc\n",
      "Chain [1] engine = nuts (Default)\n",
      "Chain [1] nuts\n",
      "Chain [1] max_depth = 10 (Default)\n",
      "Chain [1] metric = diag_e (Default)\n",
      "Chain [1] metric_file =  (Default)\n",
      "Chain [1] stepsize = 1 (Default)\n",
      "Chain [1] stepsize_jitter = 0 (Default)\n",
      "Chain [1] num_chains = 1 (Default)\n",
      "Chain [1] id = 1 (Default)\n",
      "Chain [1] data\n",
      "Chain [1] file = /var/folders/_s/zm3gz4x52glfbflc25_3rp3w0000gq/T/tmpfck_tgys/n0dn4s63.json\n",
      "Chain [1] init = 2 (Default)\n",
      "Chain [1] random\n",
      "Chain [1] seed = 50280\n",
      "Chain [1] output\n",
      "Chain [1] file = /var/folders/_s/zm3gz4x52glfbflc25_3rp3w0000gq/T/tmpfck_tgys/GPl3h_sumj/GP-20241214233911.csv\n",
      "Chain [1] diagnostic_file =  (Default)\n",
      "Chain [1] refresh = 100 (Default)\n",
      "Chain [1] sig_figs = -1 (Default)\n",
      "Chain [1] profile_file = profile.csv (Default)\n",
      "Chain [1] save_cmdstan_config = false (Default)\n",
      "Chain [1] num_threads = 1 (Default)\n",
      "Chain [1] \n",
      "Chain [1] At point 1 there are 1 clips\n",
      "Chain [1] At point 2 there are 0 clips\n",
      "Chain [1] At point 3 there are 1 clips\n",
      "Chain [1] At point 4 there are 2 clips\n",
      "Chain [1] At point 5 there are 2 clips\n",
      "Chain [1] At point 6 there are 1 clips\n",
      "Chain [1] At point 7 there are 0 clips\n",
      "Chain [1] At point 8 there are 0 clips\n",
      "Chain [1] At point 9 there are 3 clips\n",
      "Chain [1] At point 10 there are 5 clips\n",
      "Chain [1] At point 11 there are 3 clips\n",
      "Chain [1] At point 12 there are 2 clips\n",
      "Chain [1] At point 13 there are 3 clips\n",
      "Chain [1] At point 14 there are 5 clips\n",
      "Chain [1] At point 15 there are 6 clips\n",
      "Chain [1] At point 16 there are 4 clips\n",
      "Chain [1] At point 17 there are 14 clips\n",
      "Chain [1] At point 18 there are 8 clips\n",
      "Chain [1] At point 19 there are 11 clips\n",
      "Chain [1] At point 20 there are 10 clips\n",
      "Chain [1] At point 21 there are 25 clips\n",
      "Chain [1] At point 22 there are 22 clips\n",
      "Chain [1] At point 23 there are 15 clips\n",
      "Chain [1] At point 24 there are 21 clips\n",
      "Chain [1] At point 25 there are 34 clips\n",
      "Chain [1] At point 26 there are 18 clips\n",
      "Chain [1] At point 27 there are 30 clips\n",
      "Chain [1] At point 28 there are 30 clips\n",
      "Chain [1] At point 29 there are 32 clips\n",
      "Chain [1] At point 30 there are 48 clips\n",
      "Chain [1] At point 31 there are 42 clips\n",
      "Chain [1] At point 32 there are 44 clips\n",
      "Chain [1] At point 33 there are 48 clips\n",
      "Chain [1] At point 34 there are 52 clips\n",
      "Chain [1] At point 35 there are 67 clips\n",
      "Chain [1] At point 36 there are 57 clips\n",
      "Chain [1] At point 37 there are 55 clips\n",
      "Chain [1] At point 38 there are 59 clips\n",
      "Chain [1] At point 39 there are 74 clips\n",
      "Chain [1] At point 40 there are 47 clips\n",
      "Chain [1] At point 41 there are 53 clips\n",
      "Chain [1] At point 42 there are 69 clips\n",
      "Chain [1] At point 43 there are 68 clips\n",
      "Chain [1] At point 44 there are 54 clips\n",
      "Chain [1] At point 45 there are 54 clips\n",
      "Chain [1] At point 46 there are 60 clips\n",
      "Chain [1] At point 47 there are 52 clips\n",
      "Chain [1] At point 48 there are 51 clips\n",
      "Chain [1] At point 49 there are 60 clips\n",
      "Chain [1] At point 50 there are 56 clips\n",
      "Chain [1] At point 51 there are 52 clips\n",
      "Chain [1] At point 52 there are 53 clips\n",
      "Chain [1] At point 53 there are 43 clips\n",
      "Chain [1] At point 54 there are 32 clips\n",
      "Chain [1] At point 55 there are 23 clips\n",
      "Chain [1] At point 56 there are 37 clips\n",
      "Chain [1] At point 57 there are 35 clips\n",
      "Chain [1] At point 58 there are 24 clips\n",
      "Chain [1] At point 59 there are 17 clips\n",
      "Chain [1] At point 60 there are 20 clips\n",
      "Chain [1] At point 61 there are 19 clips\n",
      "Chain [1] At point 62 there are 20 clips\n",
      "Chain [1] At point 63 there are 15 clips\n",
      "Chain [1] At point 64 there are 11 clips\n",
      "Chain [1] At point 65 there are 15 clips\n",
      "Chain [1] At point 66 there are 9 clips\n",
      "Chain [1] At point 67 there are 9 clips\n",
      "Chain [1] At point 68 there are 5 clips\n",
      "Chain [1] At point 69 there are 5 clips\n",
      "Chain [1] At point 70 there are 9 clips\n",
      "Chain [1] At point 71 there are 7 clips\n",
      "Chain [1] At point 72 there are 3 clips\n",
      "Chain [1] At point 73 there are 4 clips\n",
      "Chain [1] At point 74 there are 3 clips\n",
      "Chain [1] At point 75 there are 6 clips\n",
      "Chain [1] At point 76 there are 2 clips\n",
      "Chain [1] At point 77 there are 5 clips\n",
      "Chain [1] At point 78 there are 0 clips\n",
      "Chain [1] At point 79 there are 7 clips\n",
      "Chain [1] At point 80 there are 3 clips\n",
      "Chain [1] At point 81 there are 3 clips\n",
      "Chain [1] At point 82 there are 2 clips\n",
      "Chain [1] At point 83 there are 2 clips\n",
      "Chain [1] At point 84 there are 1 clips\n",
      "Chain [1] At point 85 there are 0 clips\n",
      "Chain [1] At point 86 there are 0 clips\n",
      "Chain [1] At point 87 there are 0 clips\n",
      "Chain [1] At point 88 there are 1 clips\n",
      "Chain [1] At point 89 there are 0 clips\n",
      "Chain [1] At point 90 there are 0 clips\n",
      "Chain [1] At point 91 there are 0 clips\n",
      "Chain [1] At point 92 there are 0 clips\n",
      "Chain [1] At point 93 there are 0 clips\n",
      "Chain [1] At point 94 there are 0 clips\n",
      "Chain [1] At point 95 there are 0 clips\n",
      "Chain [1] At point 96 there are 0 clips\n",
      "Chain [1] At point 97 there are 0 clips\n",
      "Chain [1] At point 98 there are 0 clips\n",
      "Chain [1] At point 99 there are 0 clips\n",
      "Chain [1] At point 100 there are 0 clips\n",
      "Chain [1] Total:1980\n",
      "Chain [1] \n",
      "Chain [1] Gradient evaluation took 0.001046 seconds\n",
      "Chain [1] 1000 transitions using 10 leapfrog steps per transition would take 10.46 seconds.\n",
      "Chain [1] Adjust your expectations accordingly!\n",
      "Chain [1] \n",
      "Chain [1] \n",
      "Chain [1] Iteration:   1 / 1000 [  0%]  (Warmup)\n",
      "Chain [1] Iteration: 100 / 1000 [ 10%]  (Warmup)\n",
      "Chain [1] Iteration: 200 / 1000 [ 20%]  (Warmup)\n",
      "Chain [1] Iteration: 300 / 1000 [ 30%]  (Warmup)\n",
      "Chain [1] Iteration: 400 / 1000 [ 40%]  (Warmup)\n",
      "Chain [1] Iteration: 500 / 1000 [ 50%]  (Warmup)\n",
      "Chain [1] Iteration: 501 / 1000 [ 50%]  (Sampling)\n",
      "Chain [1] Iteration: 600 / 1000 [ 60%]  (Sampling)\n",
      "Chain [1] Iteration: 700 / 1000 [ 70%]  (Sampling)\n",
      "Chain [1] Iteration: 800 / 1000 [ 80%]  (Sampling)\n",
      "Chain [1] Iteration: 900 / 1000 [ 90%]  (Sampling)\n"
     ]
    },
    {
     "name": "stderr",
     "output_type": "stream",
     "text": [
      "23:39:16 - cmdstanpy - INFO - Chain [1] done processing\n"
     ]
    },
    {
     "name": "stdout",
     "output_type": "stream",
     "text": [
      "Chain [1] Iteration: 1000 / 1000 [100%]  (Sampling)\n",
      "Chain [1] \n",
      "Chain [1] Elapsed Time: 2.43 seconds (Warm-up)\n",
      "Chain [1] 2.455 seconds (Sampling)\n",
      "Chain [1] 4.885 seconds (Total)\n",
      "Chain [1] \n",
      "Chain [1] \n"
     ]
    }
   ],
   "source": [
    "# subset the data so we can fit the gp\n",
    "data_gp = data.copy()\n",
    "\n",
    "# fit the model\n",
    "fit = model.sample(data=data_gp, chains=1, iter_warmup=500, iter_sampling=500, show_console=True)"
   ]
  },
  {
   "cell_type": "code",
   "execution_count": 315,
   "metadata": {},
   "outputs": [
    {
     "data": {
      "text/html": [
       "<div>\n",
       "<style scoped>\n",
       "    .dataframe tbody tr th:only-of-type {\n",
       "        vertical-align: middle;\n",
       "    }\n",
       "\n",
       "    .dataframe tbody tr th {\n",
       "        vertical-align: top;\n",
       "    }\n",
       "\n",
       "    .dataframe thead th {\n",
       "        text-align: right;\n",
       "    }\n",
       "</style>\n",
       "<table border=\"1\" class=\"dataframe\">\n",
       "  <thead>\n",
       "    <tr style=\"text-align: right;\">\n",
       "      <th></th>\n",
       "      <th>Mean</th>\n",
       "      <th>MCSE</th>\n",
       "      <th>StdDev</th>\n",
       "      <th>5%</th>\n",
       "      <th>50%</th>\n",
       "      <th>95%</th>\n",
       "      <th>N_Eff</th>\n",
       "      <th>N_Eff/s</th>\n",
       "      <th>R_hat</th>\n",
       "    </tr>\n",
       "  </thead>\n",
       "  <tbody>\n",
       "    <tr>\n",
       "      <th>lp__</th>\n",
       "      <td>-60.544900</td>\n",
       "      <td>0.476598</td>\n",
       "      <td>7.920120</td>\n",
       "      <td>-73.456600</td>\n",
       "      <td>-60.443100</td>\n",
       "      <td>-48.562600</td>\n",
       "      <td>276.15800</td>\n",
       "      <td>112.48800</td>\n",
       "      <td>1.000070</td>\n",
       "    </tr>\n",
       "    <tr>\n",
       "      <th>rho</th>\n",
       "      <td>0.377824</td>\n",
       "      <td>0.013340</td>\n",
       "      <td>0.275164</td>\n",
       "      <td>0.131118</td>\n",
       "      <td>0.299108</td>\n",
       "      <td>0.903777</td>\n",
       "      <td>425.49500</td>\n",
       "      <td>173.31800</td>\n",
       "      <td>0.998294</td>\n",
       "    </tr>\n",
       "    <tr>\n",
       "      <th>eta[1]</th>\n",
       "      <td>0.088021</td>\n",
       "      <td>0.041336</td>\n",
       "      <td>1.054000</td>\n",
       "      <td>-1.624760</td>\n",
       "      <td>0.121065</td>\n",
       "      <td>1.800180</td>\n",
       "      <td>650.16500</td>\n",
       "      <td>264.83300</td>\n",
       "      <td>0.998310</td>\n",
       "    </tr>\n",
       "    <tr>\n",
       "      <th>eta[2]</th>\n",
       "      <td>0.018063</td>\n",
       "      <td>0.037753</td>\n",
       "      <td>0.936316</td>\n",
       "      <td>-1.487370</td>\n",
       "      <td>0.031048</td>\n",
       "      <td>1.471090</td>\n",
       "      <td>615.09900</td>\n",
       "      <td>250.54900</td>\n",
       "      <td>0.999523</td>\n",
       "    </tr>\n",
       "    <tr>\n",
       "      <th>eta[3]</th>\n",
       "      <td>0.281113</td>\n",
       "      <td>0.040580</td>\n",
       "      <td>0.935273</td>\n",
       "      <td>-1.342180</td>\n",
       "      <td>0.347793</td>\n",
       "      <td>1.763600</td>\n",
       "      <td>531.19200</td>\n",
       "      <td>216.37100</td>\n",
       "      <td>0.999089</td>\n",
       "    </tr>\n",
       "    <tr>\n",
       "      <th>...</th>\n",
       "      <td>...</td>\n",
       "      <td>...</td>\n",
       "      <td>...</td>\n",
       "      <td>...</td>\n",
       "      <td>...</td>\n",
       "      <td>...</td>\n",
       "      <td>...</td>\n",
       "      <td>...</td>\n",
       "      <td>...</td>\n",
       "    </tr>\n",
       "    <tr>\n",
       "      <th>f[117]</th>\n",
       "      <td>7.322060</td>\n",
       "      <td>0.039121</td>\n",
       "      <td>0.959282</td>\n",
       "      <td>5.778720</td>\n",
       "      <td>7.333310</td>\n",
       "      <td>8.886020</td>\n",
       "      <td>601.26100</td>\n",
       "      <td>244.91300</td>\n",
       "      <td>0.998414</td>\n",
       "    </tr>\n",
       "    <tr>\n",
       "      <th>f[118]</th>\n",
       "      <td>7.573940</td>\n",
       "      <td>0.037935</td>\n",
       "      <td>0.947924</td>\n",
       "      <td>6.012620</td>\n",
       "      <td>7.567630</td>\n",
       "      <td>9.040230</td>\n",
       "      <td>624.39500</td>\n",
       "      <td>254.33600</td>\n",
       "      <td>0.999059</td>\n",
       "    </tr>\n",
       "    <tr>\n",
       "      <th>f[119]</th>\n",
       "      <td>7.824640</td>\n",
       "      <td>0.036916</td>\n",
       "      <td>0.938731</td>\n",
       "      <td>6.309420</td>\n",
       "      <td>7.827730</td>\n",
       "      <td>9.266180</td>\n",
       "      <td>646.63100</td>\n",
       "      <td>263.39400</td>\n",
       "      <td>1.000440</td>\n",
       "    </tr>\n",
       "    <tr>\n",
       "      <th>f[120]</th>\n",
       "      <td>8.072050</td>\n",
       "      <td>0.036727</td>\n",
       "      <td>0.935537</td>\n",
       "      <td>6.550950</td>\n",
       "      <td>8.104970</td>\n",
       "      <td>9.478610</td>\n",
       "      <td>648.84700</td>\n",
       "      <td>264.29600</td>\n",
       "      <td>1.002620</td>\n",
       "    </tr>\n",
       "    <tr>\n",
       "      <th>n_pos_pred</th>\n",
       "      <td>65.218000</td>\n",
       "      <td>0.213370</td>\n",
       "      <td>5.160980</td>\n",
       "      <td>58.000000</td>\n",
       "      <td>65.000000</td>\n",
       "      <td>74.000000</td>\n",
       "      <td>585.05015</td>\n",
       "      <td>238.30963</td>\n",
       "      <td>0.998980</td>\n",
       "    </tr>\n",
       "  </tbody>\n",
       "</table>\n",
       "<p>243 rows × 9 columns</p>\n",
       "</div>"
      ],
      "text/plain": [
       "                 Mean      MCSE    StdDev         5%        50%        95%  \\\n",
       "lp__       -60.544900  0.476598  7.920120 -73.456600 -60.443100 -48.562600   \n",
       "rho          0.377824  0.013340  0.275164   0.131118   0.299108   0.903777   \n",
       "eta[1]       0.088021  0.041336  1.054000  -1.624760   0.121065   1.800180   \n",
       "eta[2]       0.018063  0.037753  0.936316  -1.487370   0.031048   1.471090   \n",
       "eta[3]       0.281113  0.040580  0.935273  -1.342180   0.347793   1.763600   \n",
       "...               ...       ...       ...        ...        ...        ...   \n",
       "f[117]       7.322060  0.039121  0.959282   5.778720   7.333310   8.886020   \n",
       "f[118]       7.573940  0.037935  0.947924   6.012620   7.567630   9.040230   \n",
       "f[119]       7.824640  0.036916  0.938731   6.309420   7.827730   9.266180   \n",
       "f[120]       8.072050  0.036727  0.935537   6.550950   8.104970   9.478610   \n",
       "n_pos_pred  65.218000  0.213370  5.160980  58.000000  65.000000  74.000000   \n",
       "\n",
       "                N_Eff    N_Eff/s     R_hat  \n",
       "lp__        276.15800  112.48800  1.000070  \n",
       "rho         425.49500  173.31800  0.998294  \n",
       "eta[1]      650.16500  264.83300  0.998310  \n",
       "eta[2]      615.09900  250.54900  0.999523  \n",
       "eta[3]      531.19200  216.37100  0.999089  \n",
       "...               ...        ...       ...  \n",
       "f[117]      601.26100  244.91300  0.998414  \n",
       "f[118]      624.39500  254.33600  0.999059  \n",
       "f[119]      646.63100  263.39400  1.000440  \n",
       "f[120]      648.84700  264.29600  1.002620  \n",
       "n_pos_pred  585.05015  238.30963  0.998980  \n",
       "\n",
       "[243 rows x 9 columns]"
      ]
     },
     "execution_count": 315,
     "metadata": {},
     "output_type": "execute_result"
    }
   ],
   "source": [
    "samples = fit.draws_pd()\n",
    "# summarize the results\n",
    "summary = fit.summary()\n",
    "summary"
   ]
  },
  {
   "cell_type": "code",
   "execution_count": 247,
   "metadata": {},
   "outputs": [
    {
     "data": {
      "image/png": "[encoded data removed]",
      "text/plain": [
       "<Figure size 2000x200 with 10 Axes>"
      ]
     },
     "metadata": {},
     "output_type": "display_data"
    }
   ],
   "source": [
    "# plot histograms of f[1], f[11], f[21], f[31], f[41], f[51], f[61], f[71], f[81], f[91]\n",
    "fig, ax = plt.subplots(1, 10, figsize=(20, 2))\n",
    "for i in range(10):\n",
    "    ax[i].hist(samples[f\"f[{i+1}]\"], bins=100, alpha=0.5, label=f\"f[{i+1}]\", color='green')\n",
    "    ax[i].set_title(f\"f[{i+1}]\")"
   ]
  },
  {
   "cell_type": "code",
   "execution_count": null,
   "metadata": {},
   "outputs": [],
   "source": []
  }
 ],
 "metadata": {
  "kernelspec": {
   "display_name": "cmdstanpy",
   "language": "python",
   "name": "python3"
  },
  "language_info": {
   "codemirror_mode": {
    "name": "ipython",
    "version": 3
   },
   "file_extension": ".py",
   "mimetype": "text/x-python",
   "name": "python",
   "nbconvert_exporter": "python",
   "pygments_lexer": "ipython3",
   "version": "3.13.1"
  }
 },
 "nbformat": 4,
 "nbformat_minor": 2
}
