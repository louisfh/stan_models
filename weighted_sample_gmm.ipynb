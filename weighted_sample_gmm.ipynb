{
 "cells": [
  {
   "cell_type": "code",
   "execution_count": 74,
   "metadata": {},
   "outputs": [],
   "source": [
    "import numpy as np\n",
    "import pandas as pd\n",
    "import matplotlib.pyplot as plt\n",
    "\n",
    "# generate some data\n",
    "mu_0 = -5\n",
    "sigma_0 = 3\n",
    "mu_1 = 3\n",
    "sigma_1 = 2\n",
    "\n",
    "n_clips = 5000\n",
    "n_pos = 200\n",
    "\n",
    "# generate data\n",
    "scores = np.zeros(n_clips)\n",
    "labels = np.zeros(n_clips)\n",
    "scores[:n_pos] = np.random.normal(mu_1, sigma_1, n_pos)\n",
    "labels[:n_pos] = 1\n",
    "scores[n_pos:] = np.random.normal(mu_0, sigma_0, n_clips - n_pos)\n",
    "labels[n_pos:] = 0\n",
    "\n",
    "# make a labeling weighting. Try 1/rank\n",
    "df = pd.DataFrame({'score': scores, 'label': labels})\n",
    "df = df.sort_values(\"score\", ascending=False)\n",
    "df[\"weighting\"] = 1/(1 + np.arange(len(df)))\n",
    "\n",
    "# shuffle them just to remove any ordering\n",
    "df = df.sample(frac=1)\n",
    "\n",
    "# ensure labels are integers\n",
    "df[\"label\"] = df[\"label\"].astype(int)\n",
    "\n",
    "n_labeled = 25\n",
    "\n",
    "# sample according to the weighting\n",
    "labeled = df.sample(n_labeled, weights=\"weighting\")\n",
    "unlabeled = df.drop(labeled.index)\n",
    "\n",
    "# normalize the labeled weights\n",
    "labeled[\"weighting\"] = labeled[\"weighting\"] / labeled[\"weighting\"].sum()\n",
    "\n",
    "# make the data dictionary\n",
    "data = {'N_labeled': len(labeled), \n",
    "        'N_unlabeled': len(unlabeled), \n",
    "        'scores_labeled': labeled['score'].values, \n",
    "        'scores_unlabeled': unlabeled['score'].values,\n",
    "        'sampling_weight': labeled[\"weighting\"].values,\n",
    "        'labels': labeled[\"label\"].values}\n",
    "\n",
    "# make the data\n"
   ]
  },
  {
   "cell_type": "code",
   "execution_count": 75,
   "metadata": {},
   "outputs": [
    {
     "name": "stdout",
     "output_type": "stream",
     "text": [
      "Number of positives in labeled data: 11\n",
      "proportion of positives in labeled data: 0.44\n",
      "proportion of positives in all data: 0.04\n"
     ]
    },
    {
     "data": {
      "image/png": "[encoded data removed]",
      "text/plain": [
       "<Figure size 900x300 with 3 Axes>"
      ]
     },
     "metadata": {},
     "output_type": "display_data"
    }
   ],
   "source": [
    "# plot the histogram of scores\n",
    "import matplotlib.pyplot as plt\n",
    "fig, ax = plt.subplots(1, 3, figsize=(9, 3), sharex=True)\n",
    "pos = df[df['label'] == 1]\n",
    "neg = df[df['label'] == 0]\n",
    "ax[0].hist(pos['score'], bins=100, alpha=0.5, label='pos', color='red')\n",
    "ax[0].hist(neg['score'], bins=100, alpha=0.5, label='neg', color='blue')\n",
    "ax[1].hist(df['score'], bins=100, alpha=0.5, label='all', color='green')\n",
    "ax[2].hist(labeled[labeled[\"label\"] ==1]['score'], bins=10, alpha=0.5, label='labeled', color='red')\n",
    "ax[2].hist(labeled[labeled[\"label\"] ==0]['score'], bins=50, alpha=0.5, label='unlabeled', color='blue')\n",
    "print(f\"Number of positives in labeled data: {np.sum(labeled['label'])}\")\n",
    "print(f\"proportion of positives in labeled data: {np.mean(labeled['label'])}\")\n",
    "print(f\"proportion of positives in all data: {np.mean(df['label'])}\")"
   ]
  },
  {
   "cell_type": "code",
   "execution_count": 76,
   "metadata": {},
   "outputs": [],
   "source": [
    "#import cmdstanpy and use the stan model\n",
    "import cmdstanpy\n",
    "file = \"weighted_sample_gmm.stan\"\n",
    "model = cmdstanpy.CmdStanModel(stan_file=file)"
   ]
  },
  {
   "cell_type": "code",
   "execution_count": 77,
   "metadata": {},
   "outputs": [
    {
     "name": "stderr",
     "output_type": "stream",
     "text": [
      "17:00:37 - cmdstanpy - INFO - CmdStan start processing\n"
     ]
    },
    {
     "data": {
      "application/vnd.jupyter.widget-view+json": {
       "model_id": "40e5fdf8b46645a2871cea77d99534ce",
       "version_major": 2,
       "version_minor": 0
      },
      "text/plain": [
       "chain 1 |          | 00:00 Status"
      ]
     },
     "metadata": {},
     "output_type": "display_data"
    },
    {
     "data": {
      "application/vnd.jupyter.widget-view+json": {
       "model_id": "e9d3e78a44c448109e645fc1ebc2d119",
       "version_major": 2,
       "version_minor": 0
      },
      "text/plain": [
       "chain 2 |          | 00:00 Status"
      ]
     },
     "metadata": {},
     "output_type": "display_data"
    },
    {
     "data": {
      "application/vnd.jupyter.widget-view+json": {
       "model_id": "1d92535c660b4ca98779451aee6b00aa",
       "version_major": 2,
       "version_minor": 0
      },
      "text/plain": [
       "chain 3 |          | 00:00 Status"
      ]
     },
     "metadata": {},
     "output_type": "display_data"
    },
    {
     "data": {
      "application/vnd.jupyter.widget-view+json": {
       "model_id": "07ea9c9c9ae0418bbcad55f09a124780",
       "version_major": 2,
       "version_minor": 0
      },
      "text/plain": [
       "chain 4 |          | 00:00 Status"
      ]
     },
     "metadata": {},
     "output_type": "display_data"
    },
    {
     "name": "stdout",
     "output_type": "stream",
     "text": [
      "                                                                                                                                                                                                                                                                                                                                "
     ]
    },
    {
     "name": "stderr",
     "output_type": "stream",
     "text": [
      "17:00:41 - cmdstanpy - INFO - CmdStan done processing.\n",
      "17:00:41 - cmdstanpy - WARNING - Non-fatal error during sampling:\n",
      "Exception: normal_lpdf: Scale parameter is 0, but must be positive! (in 'weighted_sample_gmm.stan', line 27, column 12 to line 29, column 86)\n",
      "\tException: normal_lpdf: Scale parameter is 0, but must be positive! (in 'weighted_sample_gmm.stan', line 27, column 12 to line 29, column 86)\n",
      "Consider re-running with show_console=True if the above output is unclear!\n"
     ]
    },
    {
     "name": "stdout",
     "output_type": "stream",
     "text": [
      "\n"
     ]
    }
   ],
   "source": [
    "# fit the model\n",
    "fit = model.sample(data=data, chains=4, iter_warmup=250, iter_sampling=250)"
   ]
  },
  {
   "cell_type": "code",
   "execution_count": 78,
   "metadata": {},
   "outputs": [],
   "source": [
    "samples = fit.draws_pd()\n",
    "# summarize the results\n",
    "summary = fit.summary()"
   ]
  },
  {
   "cell_type": "code",
   "execution_count": 79,
   "metadata": {},
   "outputs": [
    {
     "data": {
      "text/html": [
       "<div>\n",
       "<style scoped>\n",
       "    .dataframe tbody tr th:only-of-type {\n",
       "        vertical-align: middle;\n",
       "    }\n",
       "\n",
       "    .dataframe tbody tr th {\n",
       "        vertical-align: top;\n",
       "    }\n",
       "\n",
       "    .dataframe thead th {\n",
       "        text-align: right;\n",
       "    }\n",
       "</style>\n",
       "<table border=\"1\" class=\"dataframe\">\n",
       "  <thead>\n",
       "    <tr style=\"text-align: right;\">\n",
       "      <th></th>\n",
       "      <th>Mean</th>\n",
       "      <th>MCSE</th>\n",
       "      <th>StdDev</th>\n",
       "      <th>5%</th>\n",
       "      <th>50%</th>\n",
       "      <th>95%</th>\n",
       "      <th>N_Eff</th>\n",
       "      <th>N_Eff/s</th>\n",
       "      <th>R_hat</th>\n",
       "    </tr>\n",
       "  </thead>\n",
       "  <tbody>\n",
       "    <tr>\n",
       "      <th>lp__</th>\n",
       "      <td>-18371.500000</td>\n",
       "      <td>0.069859</td>\n",
       "      <td>1.580150</td>\n",
       "      <td>-18374.500000</td>\n",
       "      <td>-18371.200000</td>\n",
       "      <td>-18369.600000</td>\n",
       "      <td>511.627000</td>\n",
       "      <td>103.673000</td>\n",
       "      <td>1.002860</td>\n",
       "    </tr>\n",
       "    <tr>\n",
       "      <th>mu[1]</th>\n",
       "      <td>-5.102240</td>\n",
       "      <td>0.001108</td>\n",
       "      <td>0.033540</td>\n",
       "      <td>-5.157540</td>\n",
       "      <td>-5.102620</td>\n",
       "      <td>-5.047770</td>\n",
       "      <td>915.537000</td>\n",
       "      <td>185.519000</td>\n",
       "      <td>0.998878</td>\n",
       "    </tr>\n",
       "    <tr>\n",
       "      <th>mu[2]</th>\n",
       "      <td>2.192180</td>\n",
       "      <td>0.005596</td>\n",
       "      <td>0.157420</td>\n",
       "      <td>1.931640</td>\n",
       "      <td>2.195140</td>\n",
       "      <td>2.471920</td>\n",
       "      <td>791.249000</td>\n",
       "      <td>160.334000</td>\n",
       "      <td>1.000360</td>\n",
       "    </tr>\n",
       "    <tr>\n",
       "      <th>sigma[1]</th>\n",
       "      <td>2.586380</td>\n",
       "      <td>0.000830</td>\n",
       "      <td>0.025378</td>\n",
       "      <td>2.541910</td>\n",
       "      <td>2.587250</td>\n",
       "      <td>2.626970</td>\n",
       "      <td>935.720000</td>\n",
       "      <td>189.609000</td>\n",
       "      <td>0.998030</td>\n",
       "    </tr>\n",
       "    <tr>\n",
       "      <th>sigma[2]</th>\n",
       "      <td>1.994330</td>\n",
       "      <td>0.003196</td>\n",
       "      <td>0.099420</td>\n",
       "      <td>1.838160</td>\n",
       "      <td>1.991890</td>\n",
       "      <td>2.169500</td>\n",
       "      <td>967.505000</td>\n",
       "      <td>196.050000</td>\n",
       "      <td>0.998922</td>\n",
       "    </tr>\n",
       "    <tr>\n",
       "      <th>theta</th>\n",
       "      <td>0.050596</td>\n",
       "      <td>0.000128</td>\n",
       "      <td>0.003827</td>\n",
       "      <td>0.044513</td>\n",
       "      <td>0.050468</td>\n",
       "      <td>0.057093</td>\n",
       "      <td>887.255050</td>\n",
       "      <td>179.788257</td>\n",
       "      <td>0.999793</td>\n",
       "    </tr>\n",
       "    <tr>\n",
       "      <th>n_pos_pred</th>\n",
       "      <td>253.559000</td>\n",
       "      <td>0.766707</td>\n",
       "      <td>24.245378</td>\n",
       "      <td>213.000000</td>\n",
       "      <td>253.000000</td>\n",
       "      <td>293.000000</td>\n",
       "      <td>999.999001</td>\n",
       "      <td>202.634043</td>\n",
       "      <td>1.001128</td>\n",
       "    </tr>\n",
       "  </tbody>\n",
       "</table>\n",
       "</div>"
      ],
      "text/plain": [
       "                    Mean      MCSE     StdDev            5%           50%  \\\n",
       "lp__       -18371.500000  0.069859   1.580150 -18374.500000 -18371.200000   \n",
       "mu[1]          -5.102240  0.001108   0.033540     -5.157540     -5.102620   \n",
       "mu[2]           2.192180  0.005596   0.157420      1.931640      2.195140   \n",
       "sigma[1]        2.586380  0.000830   0.025378      2.541910      2.587250   \n",
       "sigma[2]        1.994330  0.003196   0.099420      1.838160      1.991890   \n",
       "theta           0.050596  0.000128   0.003827      0.044513      0.050468   \n",
       "n_pos_pred    253.559000  0.766707  24.245378    213.000000    253.000000   \n",
       "\n",
       "                     95%       N_Eff     N_Eff/s     R_hat  \n",
       "lp__       -18369.600000  511.627000  103.673000  1.002860  \n",
       "mu[1]          -5.047770  915.537000  185.519000  0.998878  \n",
       "mu[2]           2.471920  791.249000  160.334000  1.000360  \n",
       "sigma[1]        2.626970  935.720000  189.609000  0.998030  \n",
       "sigma[2]        2.169500  967.505000  196.050000  0.998922  \n",
       "theta           0.057093  887.255050  179.788257  0.999793  \n",
       "n_pos_pred    293.000000  999.999001  202.634043  1.001128  "
      ]
     },
     "execution_count": 79,
     "metadata": {},
     "output_type": "execute_result"
    }
   ],
   "source": [
    "summary"
   ]
  },
  {
   "cell_type": "code",
   "execution_count": null,
   "metadata": {},
   "outputs": [],
   "source": []
  }
 ],
 "metadata": {
  "kernelspec": {
   "display_name": "cmdstanpy",
   "language": "python",
   "name": "python3"
  },
  "language_info": {
   "codemirror_mode": {
    "name": "ipython",
    "version": 3
   },
   "file_extension": ".py",
   "mimetype": "text/x-python",
   "name": "python",
   "nbconvert_exporter": "python",
   "pygments_lexer": "ipython3",
   "version": "3.13.1"
  }
 },
 "nbformat": 4,
 "nbformat_minor": 2
}
